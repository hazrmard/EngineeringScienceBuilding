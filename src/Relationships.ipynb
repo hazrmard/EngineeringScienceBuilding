{
 "cells": [
  {
   "cell_type": "code",
   "execution_count": 1,
   "metadata": {},
   "outputs": [],
   "source": [
    "%matplotlib inline\n",
    "%reload_ext autoreload\n",
    "%autoreload 2\n",
    "\n",
    "import datetime\n",
    "from os import path, environ\n",
    "\n",
    "import numpy as np\n",
    "import pandas as pd\n",
    "import matplotlib.pyplot as plt\n",
    "from mpl_toolkits.mplot3d import Axes3D\n",
    "from sklearn.preprocessing import MinMaxScaler, StandardScaler\n",
    "from sklearn.pipeline import Pipeline\n",
    "from sklearn.linear_model import LinearRegression\n",
    "from sklearn.model_selection import train_test_split\n",
    "from sklearn.cluster import DBSCAN\n",
    "from sklearn.metrics import mutual_info_score\n",
    "import ipyvolume as ipv\n",
    "\n",
    "from thermo import CONSTANTS\n",
    "from preprocess import POW_FIELDS\n",
    "# source file, see docs/5-dataset.md for info on field names\n",
    "Chiller1File = path.join(environ['DATADIR'], 'EngineeringScienceBuilding', 'Chillers.csv')\n",
    "plot_path = path.join('..', 'docs', 'img')"
   ]
  },
  {
   "cell_type": "code",
   "execution_count": 2,
   "metadata": {},
   "outputs": [],
   "source": [
    "# Read pre-processed data\n",
    "df = pd.read_csv(Chiller1File, index_col='Time', parse_dates=True, dtype=float)\n",
    "df.dropna(inplace=True)"
   ]
  },
  {
   "cell_type": "markdown",
   "metadata": {},
   "source": [
    "# Correlations\n",
    "\n",
    "## Cross-correlation\n",
    "\n",
    "Pearson product-moment correlation coefficients between variables. Measure of linear relationship between variables.\n",
    "\n",
    "$$\n",
    "r_{X,Y} = \\frac{\\textrm{cov}(X,Y)}{\\sigma_X \\sigma_Y}\n",
    "$$"
   ]
  },
  {
   "cell_type": "code",
   "execution_count": null,
   "metadata": {},
   "outputs": [],
   "source": [
    "corr = np.corrcoef(df, rowvar=False)\n",
    "fig, ax = plt.subplots(figsize=(10, 10))\n",
    "axImg = ax.matshow(corr, vmin=-1, vmax=1)\n",
    "fig.colorbar(axImg)\n",
    "plt.xticks(np.arange(len(df.columns)), df.columns, rotation='vertical')\n",
    "plt.yticks(np.arange(len(df.columns)), df.columns);\n",
    "plt.savefig(path.join(plot_path, '7-pearson-correlation.png'))"
   ]
  },
  {
   "cell_type": "markdown",
   "metadata": {},
   "source": [
    "## Mutual information\n",
    "\n",
    "Mutual information is a measure of how much information about the distribution variable $X$ is contained in the distribution of variable $Y$.\n",
    "\n",
    "$$\n",
    "\\mathrm{MI}(X,Y) = \\sum_{i}^{\\mid X \\mid} \\sum_{j}^{\\mid Y \\mid} \\frac{\\mid X_i \\cap Y_j \\mid}{N} \\log{\\frac{N \\; \\mid X_i \\cap Y_j \\mid}{\\mid X_i \\mid \\; \\mid Y_j \\mid}}\n",
    "$$\n",
    "\n",
    "Where $N$ is the total number of samples, $i$ and $j$ are class labels for samples (in this case, histogram bins). $X_i$ is the number of samples of $X$ with a label $i$. The MI score is normalized to lie between 0 and 1."
   ]
  },
  {
   "cell_type": "code",
   "execution_count": null,
   "metadata": {},
   "outputs": [],
   "source": [
    "bins = 32\n",
    "mi = np.empty((len(df.columns), len(df.columns)), dtype=float)\n",
    "# Standardizing values for 0 mean and unit variance\n",
    "scaled = StandardScaler().fit_transform(df)\n",
    "# Calculating MI matrix for upper triangular half explicitly,\n",
    "# the lower half is symmetric.\n",
    "for i, col1 in enumerate(df.columns):     # row\n",
    "    for j, col2 in enumerate(df.columns): # column\n",
    "        if j < i:\n",
    "            continue\n",
    "        else:\n",
    "            hist,_ , _ = np.histogram2d(scaled[:,i], scaled[:,j], bins=bins, density=False)\n",
    "            N = hist.sum()\n",
    "            # Normalize MI, taken from source of sklearn's \n",
    "            # normalized_mutual_info_score to work with a \n",
    "            # contingency table.\n",
    "            p_i, p_j = np.sum(hist, axis=0) / N, np.sum(hist, axis=1) / N\n",
    "            non_zero_i, non_zero_j = p_i > 0, p_j > 0\n",
    "            ent_i = -np.sum(p_i[non_zero_i] * np.log(p_i[non_zero_i]))\n",
    "            ent_j = -np.sum(p_j[non_zero_j] * np.log(p_j[non_zero_j]))\n",
    "            norm = 0.5 * (ent_i + ent_j)\n",
    "            mi[i,j] = mutual_info_score(None, None, contingency=hist) / norm\n",
    "            mi[j,i] = mi[i,j]\n",
    "\n",
    "fig, ax = plt.subplots(figsize=(10, 10))\n",
    "axImg = ax.matshow(mi)\n",
    "fig.colorbar(axImg)\n",
    "plt.xticks(np.arange(len(df.columns)), df.columns, rotation='vertical')\n",
    "plt.yticks(np.arange(len(df.columns)), df.columns);\n",
    "plt.savefig(path.join(plot_path, '7-mutual-information.png'))"
   ]
  },
  {
   "cell_type": "markdown",
   "metadata": {},
   "source": [
    "## Temporal correlation\n",
    "\n",
    "Measure the relationship variables after introducing a lag."
   ]
  },
  {
   "cell_type": "code",
   "execution_count": null,
   "metadata": {},
   "outputs": [],
   "source": [
    "# For each lag:\n",
    "#   For each variable:\n",
    "#     lag all other variables\n",
    "#  "
   ]
  },
  {
   "cell_type": "markdown",
   "metadata": {},
   "source": [
    "# Clusters\n",
    "\n",
    "## Temperature"
   ]
  },
  {
   "cell_type": "code",
   "execution_count": 12,
   "metadata": {},
   "outputs": [],
   "source": [
    "X = df.loc[:, ('TempAmbient', 'TempWetBulb')]\n",
    "X['DeltaTemp'] = df['TempCondOut'] - df['TempCondIn']\n",
    "labels = DBSCAN().fit_predict(X)"
   ]
  },
  {
   "cell_type": "code",
   "execution_count": null,
   "metadata": {
    "scrolled": true
   },
   "outputs": [],
   "source": [
    "ipv.clear()\n",
    "cmap = plt.cm.Accent(labels)\n",
    "f = ipv.scatter(X['TempAmbient'], X['DeltaTemp'], X['TempWetBulb'], color=cmap,\n",
    "            size=10, marker='point_2d')\n",
    "ipv.xyzlim(280, 310)\n",
    "ipv.ylim(0, 10)\n",
    "ipv.xyzlabel('TempAmbient', 'DeltaTemp', 'TempWetBulb')\n",
    "ipv.show()"
   ]
  },
  {
   "cell_type": "code",
   "execution_count": 14,
   "metadata": {},
   "outputs": [
    {
     "data": {
      "application/vnd.jupyter.widget-view+json": {
       "model_id": "a9a762fce597471dba351ba817c8bb21",
       "version_major": 2,
       "version_minor": 0
      },
      "text/plain": [
       "Output()"
      ]
     },
     "metadata": {},
     "output_type": "display_data"
    }
   ],
   "source": [
    "def view(fig, n, frac):\n",
    "    ipv.view(360*frac)\n",
    "ipv.movie(path.join(plot_path, '7-ct-temp-clusters.gif'), view, fps=12, frames=36)"
   ]
  },
  {
   "cell_type": "markdown",
   "metadata": {},
   "source": [
    "![](../docs/img/7-ct-temp-clusers.gif)"
   ]
  },
  {
   "cell_type": "markdown",
   "metadata": {},
   "source": [
    "## Power"
   ]
  },
  {
   "cell_type": "code",
   "execution_count": 15,
   "metadata": {},
   "outputs": [],
   "source": [
    "X = df.loc[:, ('PowConP', 'PowFanA', 'PowFanB')]\n",
    "labels = DBSCAN().fit_predict(X)"
   ]
  },
  {
   "cell_type": "code",
   "execution_count": null,
   "metadata": {},
   "outputs": [],
   "source": [
    "ipv.clear()\n",
    "cmap = plt.cm.Accent(labels)\n",
    "f = ipv.scatter(X['PowConP'], X['PowFanA'], X['PowFanB'], color=cmap,\n",
    "            size=10, marker='point_2d')\n",
    "# ipv.xyzlim(280, 310)\n",
    "ipv.xyzlabel('PowConP', 'PowFanA', 'PowFanB')\n",
    "ipv.show()"
   ]
  },
  {
   "cell_type": "code",
   "execution_count": null,
   "metadata": {},
   "outputs": [],
   "source": [
    "def view(fig, n, frac):\n",
    "    ipv.view(360*frac)\n",
    "ipv.movie(path.join(plot_path, '../docs/img/7-ct-power-clusters.gif'), view, fps=12, frames=36)"
   ]
  }
 ],
 "metadata": {
  "kernelspec": {
   "display_name": "Python 3",
   "language": "python",
   "name": "python3"
  },
  "language_info": {
   "codemirror_mode": {
    "name": "ipython",
    "version": 3
   },
   "file_extension": ".py",
   "mimetype": "text/x-python",
   "name": "python",
   "nbconvert_exporter": "python",
   "pygments_lexer": "ipython3",
   "version": "3.7.2"
  }
 },
 "nbformat": 4,
 "nbformat_minor": 2
}
