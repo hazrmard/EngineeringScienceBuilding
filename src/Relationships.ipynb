{
 "cells": [
  {
   "cell_type": "code",
   "execution_count": 21,
   "metadata": {},
   "outputs": [],
   "source": [
    "%matplotlib notebook\n",
    "%reload_ext autoreload\n",
    "%autoreload 2\n",
    "\n",
    "import datetime\n",
    "from os import path, environ\n",
    "\n",
    "import numpy as np\n",
    "import pandas as pd\n",
    "import matplotlib.pyplot as plt\n",
    "from mpl_toolkits.mplot3d import Axes3D\n",
    "from sklearn.preprocessing import MinMaxScaler\n",
    "from sklearn.pipeline import Pipeline\n",
    "from sklearn.linear_model import LinearRegression\n",
    "from sklearn.model_selection import train_test_split\n",
    "from sklearn.cluster import DBSCAN\n",
    "import ipyvolume as ipv\n",
    "\n",
    "from thermo import CONSTANTS\n",
    "# source file, see docs/5-dataset.md for info on field names\n",
    "Chiller1File = path.join(environ['DATADIR'], 'EngineeringScienceBuilding', 'Chillers.csv')\n",
    "plot_path = path.join('..', 'docs', 'img')"
   ]
  },
  {
   "cell_type": "code",
   "execution_count": 2,
   "metadata": {},
   "outputs": [],
   "source": [
    "# Read pre-processed data\n",
    "df = pd.read_csv(Chiller1File, index_col='Time', parse_dates=True, dtype=float)"
   ]
  },
  {
   "cell_type": "markdown",
   "metadata": {},
   "source": [
    "# Correlations\n",
    "\n",
    "## Fan speed & fan power\n",
    "\n",
    "*Hypothesis*: Fan power depends on ambient temperature `TempAmbient`, relative humidity `PerHumidity`, and fan speed setting `PerFreqFan[A | B]`.\n",
    "\n",
    "*Result*: Very little relationship from current data. Primarily because fan speed is ~100%. Need more variation."
   ]
  },
  {
   "cell_type": "code",
   "execution_count": 7,
   "metadata": {},
   "outputs": [],
   "source": [
    "# Data\n",
    "X = df.loc[:, ('TempAmbient', 'PerHumidity', 'PerFreqFanA')]\n",
    "Y = df.loc[:, 'PowFanA']\n",
    "Xtrain, Xtest, Ytrain, Ytest = train_test_split(X, Y, test_size=0.1)"
   ]
  },
  {
   "cell_type": "code",
   "execution_count": 8,
   "metadata": {},
   "outputs": [],
   "source": [
    "# Pipeline\n",
    "scaler = MinMaxScaler()        # scale to [0-1] range\n",
    "regressor = LinearRegression() # regression model\n",
    "reg = Pipeline([('scaler', scaler), ('regressor', regressor)])"
   ]
  },
  {
   "cell_type": "code",
   "execution_count": 9,
   "metadata": {},
   "outputs": [
    {
     "data": {
      "text/plain": [
       "0.1107982030593837"
      ]
     },
     "execution_count": 9,
     "metadata": {},
     "output_type": "execute_result"
    }
   ],
   "source": [
    "reg.fit(Xtrain, Ytrain)\n",
    "reg.score(Xtest, Ytest)"
   ]
  },
  {
   "cell_type": "code",
   "execution_count": null,
   "metadata": {},
   "outputs": [],
   "source": [
    "f = plt.figure(figsize=(8,8))\n",
    "ax = f.add_subplot(111, projection='3d')\n",
    "ax.scatter3D(X.iloc[:, 0], X.iloc[:, 1], Y, c=Y)\n",
    "ax.set_xlabel('Ambient Temperature (K)')\n",
    "ax.set_ylabel('Relative Humidity')\n",
    "ax.set_zlabel('Fan Power (W)')\n",
    "plt.savefig(path.join(plot_path, '7-fan-power-vs-temp-humidity.png'))"
   ]
  },
  {
   "cell_type": "markdown",
   "metadata": {},
   "source": [
    "# Clusters\n",
    "\n",
    "## Temperature"
   ]
  },
  {
   "cell_type": "code",
   "execution_count": 12,
   "metadata": {},
   "outputs": [],
   "source": [
    "X = df.loc[:, ('TempAmbient', 'TempWetBulb')]\n",
    "X['DeltaTemp'] = df['TempCondOut'] - df['TempCondIn']\n",
    "labels = DBSCAN().fit_predict(X)"
   ]
  },
  {
   "cell_type": "code",
   "execution_count": null,
   "metadata": {
    "scrolled": true
   },
   "outputs": [],
   "source": [
    "ipv.clear()\n",
    "cmap = plt.cm.Accent(labels)\n",
    "f = ipv.scatter(X['TempAmbient'], X['DeltaTemp'], X['TempWetBulb'], color=cmap,\n",
    "            size=10, marker='point_2d')\n",
    "ipv.xyzlim(280, 310)\n",
    "ipv.ylim(0, 10)\n",
    "ipv.xyzlabel('TempAmbient', 'DeltaTemp', 'TempWetBulb')\n",
    "ipv.show()"
   ]
  },
  {
   "cell_type": "code",
   "execution_count": 14,
   "metadata": {},
   "outputs": [
    {
     "data": {
      "application/vnd.jupyter.widget-view+json": {
       "model_id": "a9a762fce597471dba351ba817c8bb21",
       "version_major": 2,
       "version_minor": 0
      },
      "text/plain": [
       "Output()"
      ]
     },
     "metadata": {},
     "output_type": "display_data"
    }
   ],
   "source": [
    "def view(fig, n, frac):\n",
    "    ipv.view(360*frac)\n",
    "ipv.movie(path.join(plot_path, '7-ct-temp-clusters.gif'), view, fps=12, frames=36)"
   ]
  },
  {
   "cell_type": "markdown",
   "metadata": {},
   "source": [
    "![](../docs/img/7-ct-temp-clusers.gif)"
   ]
  },
  {
   "cell_type": "markdown",
   "metadata": {},
   "source": [
    "## Power"
   ]
  },
  {
   "cell_type": "code",
   "execution_count": 15,
   "metadata": {},
   "outputs": [],
   "source": [
    "X = df.loc[:, ('PowConP', 'PowFanA', 'PowFanB')]\n",
    "labels = DBSCAN().fit_predict(X)"
   ]
  },
  {
   "cell_type": "code",
   "execution_count": null,
   "metadata": {},
   "outputs": [],
   "source": [
    "ipv.clear()\n",
    "cmap = plt.cm.Accent(labels)\n",
    "f = ipv.scatter(X['PowConP'], X['PowFanA'], X['PowFanB'], color=cmap,\n",
    "            size=10, marker='point_2d')\n",
    "# ipv.xyzlim(280, 310)\n",
    "ipv.xyzlabel('PowConP', 'PowFanA', 'PowFanB')\n",
    "ipv.show()"
   ]
  },
  {
   "cell_type": "code",
   "execution_count": null,
   "metadata": {},
   "outputs": [],
   "source": [
    "def view(fig, n, frac):\n",
    "    ipv.view(360*frac)\n",
    "ipv.movie(path.join(plot_path, '../docs/img/7-ct-power-clusters.gif'), view, fps=12, frames=36)"
   ]
  }
 ],
 "metadata": {
  "kernelspec": {
   "display_name": "Python 3",
   "language": "python",
   "name": "python3"
  },
  "language_info": {
   "codemirror_mode": {
    "name": "ipython",
    "version": 3
   },
   "file_extension": ".py",
   "mimetype": "text/x-python",
   "name": "python",
   "nbconvert_exporter": "python",
   "pygments_lexer": "ipython3",
   "version": "3.7.2"
  }
 },
 "nbformat": 4,
 "nbformat_minor": 2
}
