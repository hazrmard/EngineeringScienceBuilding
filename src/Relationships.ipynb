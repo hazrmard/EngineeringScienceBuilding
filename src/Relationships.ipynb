{
 "cells": [
  {
   "cell_type": "code",
   "execution_count": null,
   "metadata": {},
   "outputs": [],
   "source": [
    "%matplotlib inline\n",
    "%reload_ext autoreload\n",
    "%autoreload 2\n",
    "\n",
    "import datetime\n",
    "from os import path, environ\n",
    "\n",
    "import numpy as np\n",
    "import pandas as pd\n",
    "import matplotlib.pyplot as plt\n",
    "from mpl_toolkits.mplot3d import Axes3D\n",
    "from sklearn.preprocessing import MinMaxScaler, StandardScaler\n",
    "from sklearn.pipeline import Pipeline\n",
    "from sklearn.linear_model import LinearRegression\n",
    "from sklearn.model_selection import train_test_split\n",
    "from sklearn.cluster import DBSCAN\n",
    "from sklearn.metrics import mutual_info_score\n",
    "# import ipyvolume as ipv\n",
    "\n",
    "from thermo import CONSTANTS\n",
    "from preprocessing.cleanup import POW_FIELDS\n",
    "from utils.stats import mutual_information, temporal_correlations\n",
    "# source file, see docs/5-dataset.md for info on field names\n",
    "chiller_file = path.join(environ['DATADIR'], 'EngineeringScienceBuilding', 'Chillers.csv')\n",
    "plot_path = path.join('..', 'docs', 'img')"
   ]
  },
  {
   "cell_type": "code",
   "execution_count": null,
   "metadata": {},
   "outputs": [],
   "source": [
    "# Read pre-processed data:\n",
    "# Pytorch uses float32 as default type for weights etc,\n",
    "# so input data points are also read in the same type.\n",
    "df = pd.read_csv(chiller_file, index_col='Time',\n",
    "                 parse_dates=['Time'], dtype=np.float32)\n",
    "df.dropna(inplace=True)"
   ]
  },
  {
   "cell_type": "markdown",
   "metadata": {},
   "source": [
    "# Correlations\n",
    "\n",
    "## Cross-correlation\n",
    "\n",
    "Pearson product-moment correlation coefficients between variables. Measure of linear relationship between variables.\n",
    "\n",
    "$$\n",
    "r_{X,Y} = \\frac{\\textrm{cov}(X,Y)}{\\sigma_X \\sigma_Y}\n",
    "$$"
   ]
  },
  {
   "cell_type": "code",
   "execution_count": null,
   "metadata": {},
   "outputs": [],
   "source": [
    "corr = np.corrcoef(df, rowvar=False)\n",
    "fig, ax = plt.subplots(figsize=(10, 10))\n",
    "axImg = ax.matshow(corr, vmin=-1, vmax=1)\n",
    "fig.colorbar(axImg)\n",
    "plt.xticks(np.arange(len(df.columns)), df.columns, rotation='vertical')\n",
    "plt.yticks(np.arange(len(df.columns)), df.columns);\n",
    "plt.savefig(path.join(plot_path, '7-pearson-correlation.png'))"
   ]
  },
  {
   "cell_type": "markdown",
   "metadata": {},
   "source": [
    "## Mutual information\n",
    "\n",
    "Mutual information is a measure of how much information about the distribution variable $X$ is contained in the distribution of variable $Y$.\n",
    "\n",
    "$$\n",
    "\\mathrm{MI}(X,Y) = \\sum_{i}^{\\mid X \\mid} \\sum_{j}^{\\mid Y \\mid} \\frac{\\mid X_i \\cap Y_j \\mid}{N} \\log{\\frac{N \\; \\mid X_i \\cap Y_j \\mid}{\\mid X_i \\mid \\; \\mid Y_j \\mid}}\n",
    "$$\n",
    "\n",
    "Where $N$ is the total number of samples, $i$ and $j$ are class labels for samples (in this case, histogram bins). $X_i$ is the number of samples of $X$ with a label $i$. The MI score is normalized to lie between 0 and 1."
   ]
  },
  {
   "cell_type": "code",
   "execution_count": null,
   "metadata": {},
   "outputs": [],
   "source": [
    "mi = mutual_information(df, bins=32)\n",
    "fig, ax = plt.subplots(figsize=(10, 10))\n",
    "axImg = ax.matshow(mi)\n",
    "fig.colorbar(axImg)\n",
    "plt.xticks(np.arange(len(df.columns)), df.columns, rotation='vertical')\n",
    "plt.yticks(np.arange(len(df.columns)), df.columns);\n",
    "plt.savefig(path.join(plot_path, '7-mutual-information.png'))"
   ]
  },
  {
   "cell_type": "markdown",
   "metadata": {},
   "source": [
    "## Temporal correlation\n",
    "\n",
    "Measure the relationship variables after introducing a lag."
   ]
  },
  {
   "cell_type": "code",
   "execution_count": null,
   "metadata": {},
   "outputs": [],
   "source": [
    "lags = (0, 1, 2, 5)\n",
    "corrs = temporal_correlations(df, lags=lags)\n",
    "maxcorridx = np.argmax(np.square(corrs), axis=0)\n",
    "maxcorrs = np.asarray(lags)[maxcorridx.flatten()]\n",
    "plt.hist(maxcorrs.flatten())\n",
    "plt.xticks(lags)\n",
    "plt.title('Lags with highest cross-correlation')\n",
    "plt.xlabel('Lag / time steps')\n",
    "plt.ylabel('Feature pairs');"
   ]
  },
  {
   "cell_type": "markdown",
   "metadata": {},
   "source": [
    "# Clusters\n",
    "\n",
    "## Temperature"
   ]
  },
  {
   "cell_type": "code",
   "execution_count": null,
   "metadata": {},
   "outputs": [],
   "source": [
    "X = df.loc[:, ('TempAmbient', 'TempWetBulb')]\n",
    "X['DeltaTemp'] = df['TempCondOut'] - df['TempCondIn']\n",
    "labels = DBSCAN().fit_predict(X)"
   ]
  },
  {
   "cell_type": "code",
   "execution_count": null,
   "metadata": {
    "scrolled": true
   },
   "outputs": [],
   "source": [
    "ipv.clear()\n",
    "cmap = plt.cm.Accent(labels)\n",
    "f = ipv.scatter(X['TempAmbient'], X['DeltaTemp'], X['TempWetBulb'], color=cmap,\n",
    "            size=10, marker='point_2d')\n",
    "ipv.xyzlim(280, 310)\n",
    "ipv.ylim(0, 10)\n",
    "ipv.xyzlabel('TempAmbient', 'DeltaTemp', 'TempWetBulb')\n",
    "ipv.show()"
   ]
  },
  {
   "cell_type": "code",
   "execution_count": null,
   "metadata": {},
   "outputs": [],
   "source": [
    "def view(fig, n, frac):\n",
    "    ipv.view(360*frac)\n",
    "ipv.movie(path.join(plot_path, '7-ct-temp-clusters.gif'), view, fps=12, frames=36)"
   ]
  },
  {
   "cell_type": "markdown",
   "metadata": {},
   "source": [
    "![](../docs/img/7-ct-temp-clusers.gif)"
   ]
  },
  {
   "cell_type": "markdown",
   "metadata": {},
   "source": [
    "## Power"
   ]
  },
  {
   "cell_type": "code",
   "execution_count": null,
   "metadata": {},
   "outputs": [],
   "source": [
    "X = df.loc[:, ('PowConP', 'PowFanA', 'PowFanB')]\n",
    "labels = DBSCAN().fit_predict(X)"
   ]
  },
  {
   "cell_type": "code",
   "execution_count": null,
   "metadata": {},
   "outputs": [],
   "source": [
    "ipv.clear()\n",
    "cmap = plt.cm.Accent(labels)\n",
    "f = ipv.scatter(X['PowConP'], X['PowFanA'], X['PowFanB'], color=cmap,\n",
    "            size=10, marker='point_2d')\n",
    "# ipv.xyzlim(280, 310)\n",
    "ipv.xyzlabel('PowConP', 'PowFanA', 'PowFanB')\n",
    "ipv.show()"
   ]
  },
  {
   "cell_type": "code",
   "execution_count": null,
   "metadata": {},
   "outputs": [],
   "source": [
    "def view(fig, n, frac):\n",
    "    ipv.view(360*frac)\n",
    "ipv.movie(path.join(plot_path, '../docs/img/7-ct-power-clusters.gif'), view, fps=12, frames=36)"
   ]
  }
 ],
 "metadata": {
  "kernelspec": {
   "display_name": "Python 3",
   "language": "python",
   "name": "python3"
  },
  "language_info": {
   "codemirror_mode": {
    "name": "ipython",
    "version": 3
   },
   "file_extension": ".py",
   "mimetype": "text/x-python",
   "name": "python",
   "nbconvert_exporter": "python",
   "pygments_lexer": "ipython3",
   "version": "3.7.6"
  }
 },
 "nbformat": 4,
 "nbformat_minor": 2
}
