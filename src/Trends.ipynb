{
 "cells": [
  {
   "cell_type": "markdown",
   "metadata": {},
   "source": [
    "Uses `v1` dataset."
   ]
  },
  {
   "cell_type": "code",
   "execution_count": null,
   "metadata": {},
   "outputs": [],
   "source": [
    "%matplotlib notebook\n",
    "%reload_ext autoreload\n",
    "%autoreload 2\n",
    "\n",
    "from datetime import datetime\n",
    "from os import path, environ\n",
    "\n",
    "import numpy as np\n",
    "import pandas as pd\n",
    "import matplotlib.pyplot as plt\n",
    "from matplotlib.animation import FuncAnimation\n",
    "import ipyvolume as ipv\n",
    "\n",
    "from preprocess import POW_FIELDS, TEMP_FIELDS\n",
    "from thermo import CONSTANTS\n",
    "from plotting import animate_dataframes\n",
    "# source file, see docs/5-dataset.md for info on field names\n",
    "chiller_file = path.join(environ['DATADIR'], 'EngineeringScienceBuilding', 'Chillers.csv')\n",
    "plot_path = path.join('..', 'docs', 'img')"
   ]
  },
  {
   "cell_type": "markdown",
   "metadata": {},
   "source": [
    "# Trends\n",
    "\n",
    "## Dataset\n",
    "\n",
    "The dataset describes input/output powers, temperatures, and cooling by various components of a chiller with a water-cooled condenser and a cooling tower. More details are in `/docs/`.\n",
    "\n",
    "After pre-processing, all measurements are in SI units (Kelvins, watts) except for the field `KWPerTon` where units are explicit in the measurement."
   ]
  },
  {
   "cell_type": "code",
   "execution_count": null,
   "metadata": {},
   "outputs": [],
   "source": [
    "# Read pre-processed data\n",
    "df = pd.read_csv(chiller_file, index_col='Time', parse_dates=True, dtype=float)\n",
    "df.dropna(inplace=True)\n",
    "print('{} rows, {} columns'.format(len(df), len(df.columns)))\n",
    "df.head()"
   ]
  },
  {
   "cell_type": "markdown",
   "metadata": {},
   "source": [
    "## Efficiency metrics\n",
    "\n",
    "### Coefficient of performance\n",
    "\n",
    "$$\n",
    "\\begin{align*}\n",
    "COP_{max cooling} &= \\frac{T_{cold}}{T_{hot} - T_{cold}}  \\\\\n",
    "COP &= \\frac{\\texttt{Energy Extracted}}{\\texttt{Energy Input}}\n",
    "\\end{align*}\n",
    "$$"
   ]
  },
  {
   "cell_type": "code",
   "execution_count": null,
   "metadata": {},
   "outputs": [],
   "source": [
    "# Measure maximum Coefficient of Performance (COP) for cooling\n",
    "# for the ENTIRE chiller plant.\n",
    "# Currently in the dataset, water flow rate for the condenser loop\n",
    "# is not available - so COP for condenser/cooling tower cannot be\n",
    "# calculated.\n",
    "df['COPMax'] = df['TempEvapIn'] / (df['TempEvapIn'] - df['TempEvapOut'])\n",
    "\n",
    "# Measured achieved COP\n",
    "df['COP'] = df['PowCool'] / df['PowIn']"
   ]
  },
  {
   "cell_type": "code",
   "execution_count": null,
   "metadata": {},
   "outputs": [],
   "source": [
    "# Aggregating measurements across days by time of day\n",
    "df = df[~df.index.duplicated(keep='first')]          # temporary fix to ignore duplicate timestamps\n",
    "downsampled = df.asfreq('15T')                       # downsampling to 15 min for cleaner plot\n",
    "\n",
    "# Grouping the data by week and taking means over each time\n",
    "weekly = downsampled.resample('W') # iterator over (date week ends, dataframe for week)\n",
    "wlabels = [ts.strftime('Week ending: %Y-%b-%d') for ts in weekly.groups.keys()]\n",
    "means_by_week = []                 # list of dataframes of timestamp means over each week\n",
    "for date, subframe in weekly:\n",
    "    grouped = subframe.groupby(subframe.index.time)\n",
    "    week_mean = grouped.mean()\n",
    "    week_mean.set_index(pd.to_datetime(week_mean.index, format='%H:%M:%S').time, inplace=True)\n",
    "    means_by_week.append(week_mean)"
   ]
  },
  {
   "cell_type": "markdown",
   "metadata": {},
   "source": [
    "## Plots\n",
    "\n",
    "### COP"
   ]
  },
  {
   "cell_type": "code",
   "execution_count": null,
   "metadata": {
    "scrolled": false
   },
   "outputs": [],
   "source": [
    "series = ['COP', 'COPMax']\n",
    "f = plt.figure(figsize=(8, 6))\n",
    "f.suptitle('COP (Entire plant) - Daily Averages')\n",
    "ax = f.add_subplot(111)\n",
    "anim = animate_dataframes(frames=means_by_week, ax=ax, lseries=series, labels=wlabels,\n",
    "                          ylim=(1e-2, 500), xlim=(min(df.index.time), max(df.index.time)),\n",
    "                          xlabel='Time', ylabel='COP',\n",
    "                          yscale='log', anim_args={'repeat':False, 'blit':True})\n",
    "anim.save(path.join(plot_path, '6-COP.mp4'))"
   ]
  },
  {
   "cell_type": "markdown",
   "metadata": {},
   "source": [
    "### Temperatures"
   ]
  },
  {
   "cell_type": "code",
   "execution_count": null,
   "metadata": {},
   "outputs": [],
   "source": [
    "f = plt.figure(figsize=(8, 6))\n",
    "f.suptitle('Temperature - Daily Averages')\n",
    "ax = f.add_subplot(111)\n",
    "anim = animate_dataframes(frames=means_by_week, ax=ax, lseries=TEMP_FIELDS, labels=wlabels,\n",
    "                          ylim=(273, 313), xlim=(min(df.index.time), max(df.index.time)),\n",
    "                          xlabel='Time', ylabel='Temperature (K)',\n",
    "                          anim_args={'repeat':False, 'blit':True})\n",
    "anim.save(path.join(plot_path, '6-temps.mp4'))"
   ]
  },
  {
   "cell_type": "markdown",
   "metadata": {},
   "source": [
    "### Power vs. Cooling\n",
    "\n",
    "Input power vs. total cooling done by the evaporator."
   ]
  },
  {
   "cell_type": "code",
   "execution_count": null,
   "metadata": {
    "scrolled": false
   },
   "outputs": [],
   "source": [
    "f = plt.figure(figsize=(8, 6))\n",
    "f.suptitle('Input power vs. Cooling')\n",
    "series = ['PowIn', 'PowCool']\n",
    "ax = f.add_subplot(111)\n",
    "anim = animate_dataframes(frames=means_by_week, ax=ax, lseries=series, labels=wlabels,\n",
    "                          ylim=None, xlim=(min(df.index.time), max(df.index.time)),\n",
    "                          xlabel='Time', ylabel='Power (watts)',\n",
    "                          anim_args={'repeat':False, 'blit':True})\n",
    "anim.save(path.join(plot_path, '6-pow-vs-cooling.mp4'))"
   ]
  },
  {
   "cell_type": "markdown",
   "metadata": {},
   "source": [
    "### Condenser/cooling tower cycle power"
   ]
  },
  {
   "cell_type": "code",
   "execution_count": null,
   "metadata": {
    "scrolled": false
   },
   "outputs": [],
   "source": [
    "f = plt.figure(figsize=(8, 6))\n",
    "f.suptitle('Cooling tower power vs cooling')\n",
    "ax = f.add_subplot(111)\n",
    "lseries = ['PowFanA', 'PowFanB', 'PowConP']\n",
    "rseries = ['TempCondOut', 'TempCondIn', 'TempAmbient', 'TempWetBulb']\n",
    "anim = animate_dataframes(frames=means_by_week, ax=ax, lseries=lseries, rseries=rseries,\n",
    "                          labels=wlabels,\n",
    "                          ylim=((0,np.nanmax(df[lseries].values)), (273, 313)),\n",
    "                          xlim=(min(df.index.time), max(df.index.time)),\n",
    "                          xlabel='Time', ylabel=('Power (watts)', 'Temp(K)'),\n",
    "                          anim_args={'repeat':False, 'blit':True})\n",
    "anim.save(path.join(plot_path, '6-cooling-tower-pow.mp4'))"
   ]
  },
  {
   "cell_type": "markdown",
   "metadata": {},
   "source": [
    "### Fan speed (%) vs fan power"
   ]
  },
  {
   "cell_type": "code",
   "execution_count": null,
   "metadata": {},
   "outputs": [],
   "source": [
    "f = plt.figure(figsize=(8,6))\n",
    "f.suptitle('Fan power (w) and fan speed (%)')\n",
    "ax = f.add_subplot(111)\n",
    "lseries = ['PowFanA', 'PowFanB']\n",
    "rseries = ['PerFreqFanA', 'PerFreqFanB']\n",
    "anim = animate_dataframes(frames=means_by_week, ax=ax, lseries=lseries, rseries=rseries,\n",
    "                          labels=wlabels,\n",
    "                          ylim=((0,np.nanmax(df[lseries].values)), (0, 1)),\n",
    "                          xlim=(min(df.index.time), max(df.index.time)),\n",
    "                          xlabel='Time', ylabel=('Power (Watts)', 'Percentage speed (%)'),\n",
    "                          anim_args={'repeat':False, 'blit':True})\n",
    "anim.save(path.join(plot_path, '6-fan-power-speed.mp4'))"
   ]
  },
  {
   "cell_type": "markdown",
   "metadata": {},
   "source": [
    "### Distribution of fan power signals"
   ]
  },
  {
   "cell_type": "code",
   "execution_count": null,
   "metadata": {},
   "outputs": [],
   "source": [
    "f = plt.figure(figsize=(8,6))\n",
    "ax = f.add_subplot(111)\n",
    "f.suptitle('Distribution of Fan power signals')\n",
    "df['PerFreqFanA'].plot.hist(bins=20, legend=True, ax=ax, histtype='step')\n",
    "df['PerFreqFanB'].plot.hist(bins=20, legend=True, ax=ax, histtype='step')\n",
    "plt.savefig(path.join(plot_path, '6-fan-power-hist.png'))"
   ]
  }
 ],
 "metadata": {
  "kernelspec": {
   "display_name": "Python 3",
   "language": "python",
   "name": "python3"
  },
  "language_info": {
   "codemirror_mode": {
    "name": "ipython",
    "version": 3
   },
   "file_extension": ".py",
   "mimetype": "text/x-python",
   "name": "python",
   "nbconvert_exporter": "python",
   "pygments_lexer": "ipython3",
   "version": "3.7.6"
  }
 },
 "nbformat": 4,
 "nbformat_minor": 2
}
