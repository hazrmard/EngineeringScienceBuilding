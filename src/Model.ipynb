{
 "cells": [
  {
   "cell_type": "code",
   "execution_count": null,
   "metadata": {},
   "outputs": [],
   "source": [
    "%matplotlib notebook\n",
    "%reload_ext autoreload\n",
    "%autoreload 2\n",
    "\n",
    "import datetime\n",
    "from os import path, environ\n",
    "from copy import deepcopy\n",
    "from multiprocessing import Pool\n",
    "\n",
    "import numpy as np\n",
    "import pandas as pd\n",
    "from sklearn.preprocessing import StandardScaler\n",
    "from sklearn.pipeline import Pipeline\n",
    "from sklearn.neural_network import MLPRegressor\n",
    "from sklearn.model_selection import train_test_split\n",
    "import torch\n",
    "import torch.nn as nn\n",
    "import torch.nn.functional as F\n",
    "from torch.nn.utils.rnn import (\n",
    "    pad_sequence,\n",
    "    pad_packed_sequence,\n",
    "    pack_padded_sequence)\n",
    "import matplotlib.pyplot as plt\n",
    "from mpl_toolkits.mplot3d import Axes3D\n",
    "from pytorchbridge import TorchEstimator\n",
    "\n",
    "from utils import fit_composite_model, contiguous_sequences\n",
    "from plotting import model_surface, plot_surface\n",
    "from controller import GridSearchController, BinaryApproachController\n",
    "# source file, see docs/5-dataset.md for info on field names\n",
    "chiller_file = path.join(environ['DATADIR'],\n",
    "                         'EngineeringScienceBuilding',\n",
    "                         'Chillers.csv')\n",
    "plot_path = path.join('..', 'docs', 'img')"
   ]
  },
  {
   "cell_type": "code",
   "execution_count": null,
   "metadata": {},
   "outputs": [],
   "source": [
    "# Read pre-processed data:\n",
    "# Pytorch uses float32 as default type for weights etc,\n",
    "# so input data points are also read in the same type.\n",
    "df = pd.read_csv(chiller_file, index_col='Time',\n",
    "                 parse_dates=['Time'], dtype=np.float32)\n",
    "df.dropna(inplace=True)"
   ]
  },
  {
   "cell_type": "markdown",
   "metadata": {},
   "source": [
    "# Energy Model"
   ]
  },
  {
   "cell_type": "code",
   "execution_count": null,
   "metadata": {},
   "outputs": [],
   "source": [
    "# Data\n",
    "feature_cols = ('TempCondIn', 'TempCondOut', 'TempEvapIn',\n",
    "                'TempEvapOut', 'TempAmbient', 'TempWetBulb',\n",
    "                'FlowEvap')\n",
    "target_cols = ('PowChi',)\n",
    "# Normalizing data to have 0 mean and 1 variance\n",
    "XEnergy, YEnergy = df.loc[:, feature_cols], df.loc[:,target_cols]\n",
    "ScalerXEnergy, ScalerYEnergy = StandardScaler().fit(XEnergy), StandardScaler().fit(YEnergy)\n",
    "XEnergy, YEnergy = ScalerXEnergy.transform(XEnergy), np.squeeze(ScalerYEnergy.transform(YEnergy))\n",
    "XEnergytrain, XEnergytest, YEnergytrain, YEnergytest = train_test_split(XEnergy, YEnergy, test_size=0.1)\n",
    "\n",
    "\n",
    "norm_energy_var = lambda i, v: ScalerXEnergy.mean_[i] + np.sqrt(ScalerX.var_[i]) * v\n",
    "norm_energy = lambda v: ScalerYEnergy.inverse_transform(v)\n",
    "\n",
    "ENERGY_MODELS = {}"
   ]
  },
  {
   "cell_type": "markdown",
   "metadata": {},
   "source": [
    "## Multi-layer perceptron"
   ]
  },
  {
   "cell_type": "code",
   "execution_count": null,
   "metadata": {},
   "outputs": [],
   "source": [
    "# Learn model\n",
    "regressor = MLPRegressor(hidden_layer_sizes=(20,20), \n",
    "                         learning_rate_init=5e-4,\n",
    "                         verbose=False)\n",
    "est = Pipeline([('regressor', regressor)])\n",
    "\n",
    "est.fit(XEnergytrain, YEnergytrain)\n",
    "print(est.score(XEnergytest, YEnergytest))\n",
    "ENERGY_MODELS['SingleMLP'] = est"
   ]
  },
  {
   "cell_type": "code",
   "execution_count": null,
   "metadata": {},
   "outputs": [],
   "source": [
    "# Plot prediction vs actual across day or timestamp\n",
    "\n",
    "# time = datetime.time(12,0,0)\n",
    "time = datetime.date(2018,6,1)\n",
    "\n",
    "if isinstance(time, datetime.time):\n",
    "    select = df.index.time == time\n",
    "    tseries = df.index.date[select]\n",
    "elif isinstance(time, datetime.date):\n",
    "    select = df.index.date == time\n",
    "    tseries = df.index.time[select]\n",
    "Xfiltered = X[select]\n",
    "Yfiltered = Y[select]\n",
    "\n",
    "plt.scatter(np.arange(len(tseries)), ScalerYEnergy.inverse_transform(Yfiltered), c='r', label='Historic')\n",
    "plt.scatter(np.arange(len(tseries)), ScalerYEnergy.inverse_transform(est.predict(Xfiltered)), c='g', label='Predicted')\n",
    "plt.title('Energy Model ' + time.isoformat())\n",
    "plt.ylabel('Energy')\n",
    "plt.xlabel('Date/Time')\n",
    "plt.legend();"
   ]
  },
  {
   "cell_type": "code",
   "execution_count": null,
   "metadata": {},
   "outputs": [],
   "source": [
    "# Plot model predictions when varying a field\n",
    "var1= 'TempCondOut'\n",
    "var_idx = feature_cols.index(var1)\n",
    "\n",
    "_, y, z = model_surface(est, Xfiltered, (var1idx,), ((-0.5, 0.5),), (10,))\n",
    "ax = plot_surface(tseries,\n",
    "                  norm_energy_var(var1idx, y),\n",
    "                  ScalerY.inverse_transform(z),\n",
    "                  alpha=0.75, cmap=plt.get_cmap('coolwarm'))\n",
    "ax.set_xlabel('Date/Time', labelpad=20)\n",
    "ax.set_ylabel(var1)\n",
    "ax.set_zlabel('Energy')\n",
    "plt.title('Energy Extrapolation ' + time.isoformat());"
   ]
  },
  {
   "cell_type": "markdown",
   "metadata": {},
   "source": [
    "# Evaporative Cooling Model\n",
    "\n",
    "Modelling the relationship between the cooling done by the cooling tower and the environmental, system, and control inputs.\n",
    "\n",
    "$$\n",
    "\\begin{align*}\n",
    "T(t) &= T(0) e^{-\\frac{k T_a v_f R}{T_w c_m m} t}\n",
    "\\end{align*}\n",
    "$$\n",
    "\n",
    "Where:\n",
    "\n",
    "* $T(0)$ is the warm entering water temperature `TempCondOut`,\n",
    "* $T(t)$ is the exiting cool water temperature `TempCondIn`,\n",
    "* $T_a$ is ambient air temperature `TempAmbient`,\n",
    "* $v_f$ is avarage fan speed `0.5 * (PerFreqFanA + PerFreqFanB)`,\n",
    "* $R$ is solar irradiance - constant if assuming shade.\n",
    "* $T_w$ is wet-bulb temperature `TempWetBulb`,\n",
    "* $c_m$ is specific mass heat capacity of water,\n",
    "* $m$ is the mass of water being cooled - constant if assuming steady flow rate.\n",
    "\n",
    "The model predicts $T(t)$ from all other factors."
   ]
  },
  {
   "cell_type": "code",
   "execution_count": null,
   "metadata": {},
   "outputs": [],
   "source": [
    "# Data\n",
    "control_cols = ('PerFreqFanA', 'PerFreqFanB')\n",
    "feature_cols = ('TempCondOut', 'TempAmbient', 'TempWetBulb')\n",
    "target_cols = ('TempCondIn',)\n",
    "# Combining 2 fan speed controls into a single variable (averaged)\n",
    "X = pd.concat((df.loc[:, control_cols].mean(axis=1), \n",
    "               df.loc[:, feature_cols]), axis=1)\n",
    "Y = df.loc[:,target_cols]\n",
    "# Normalizing data to have 0 mean and 1 variance\n",
    "ScalerX, ScalerY = StandardScaler().fit(X), StandardScaler().fit(Y)\n",
    "X, Y = ScalerX.transform(X), np.squeeze(ScalerY.transform(Y))\n",
    "# generating training/testing sets\n",
    "Xtrain, Xtest, Ytrain, Ytest = train_test_split(X, Y, test_size=0.1)\n",
    "\n",
    "# Convert feature variables or target to normal or standardized form:\n",
    "# i - is the index of the variable in the feature array\n",
    "# v - is an array of values to transform\n",
    "norm_var = lambda i, v: ScalerX.mean_[i] + np.sqrt(ScalerX.var_[i]) * v\n",
    "std_var = lambda i, v: (v - ScalerX.mean_[i]) / np.sqrt(ScalerX.var_[i])\n",
    "norm_temp = lambda v: ScalerY.inverse_transform([v])[0]\n",
    "std_temp = lambda v: ScalerY.transform([v])[0]\n",
    "\n",
    "EVAP_MODELS = {}"
   ]
  },
  {
   "cell_type": "markdown",
   "metadata": {},
   "source": [
    "## Multi-Layer Perceptron\n",
    "\n",
    "The motivation for an MLP model is the assumption that inputs manifest instantaneously as outputs with no delay. This is a simplification as water takes some time to cycle through the cooling tower.\n",
    "\n",
    "The inputs are chosen assuming steady flow rate, constant irradiance.\n",
    "\n",
    "The control variables are `PerFreqFanA` and `PerFreqFanB` which usually track each other. They are distributed bi-modally around 100% and 0% power with a minority of samples falling in between. A concern is that the model may learn to treat control inputs as constant. Two approaches are chosen:\n",
    "\n",
    "* A single model is learned over all data,\n",
    "* Samples are clustered by control=0, control >= 0.95, and 0 < control  < 0.95. A separate model is learned for each cluster."
   ]
  },
  {
   "cell_type": "markdown",
   "metadata": {},
   "source": [
    "### Single MLP"
   ]
  },
  {
   "cell_type": "code",
   "execution_count": null,
   "metadata": {},
   "outputs": [],
   "source": [
    "# Learn model\n",
    "regressor = MLPRegressor(hidden_layer_sizes=(20,20), \n",
    "                         learning_rate_init=5e-4,\n",
    "                         verbose=False) # regression model\n",
    "est = Pipeline([('regressor', regressor)])\n",
    "\n",
    "est.fit(Xtrain, Ytrain)\n",
    "EVAP_MODELS['SingleMLP'] = est"
   ]
  },
  {
   "cell_type": "code",
   "execution_count": null,
   "metadata": {},
   "outputs": [],
   "source": [
    "# Get predictions\n",
    "var_idx = 0\n",
    "nvariations = 11   # range of fan speed percentages to explore\n",
    "# time = datetime.time(4,0,0)\n",
    "time = datetime.date(2018,6,1)\n",
    "\n",
    "if isinstance(time, datetime.time):\n",
    "    select = df.index.time == time\n",
    "    tseries = df.index.date[select]\n",
    "elif isinstance(time, datetime.date):\n",
    "    select = df.index.date == time\n",
    "    tseries = df.index.time[select]\n",
    "Xfiltered = X[select]\n",
    "Yfiltered = Y[select]\n",
    "vary_range = (-ScalerX.mean_[var_idx]/np.sqrt(ScalerX.var_[var_idx]),\n",
    "              (1-ScalerX.mean_[var_idx])/np.sqrt(ScalerX.var_[var_idx]))\n",
    "time_coord, fan_coord, temp_coord = model_surface(est, Xfiltered,\n",
    "                        vary_idx=(var_idx,), vary_range=(vary_range,), vary_num=(10,))"
   ]
  },
  {
   "cell_type": "code",
   "execution_count": null,
   "metadata": {},
   "outputs": [],
   "source": [
    "# Plot optimal control\n",
    "\n",
    "min_fan_idx = np.argmin(temp_coord, axis=1).astype(int)\n",
    "\n",
    "ax = plot_surface(tseries,\n",
    "                  norm_var(var_idx, fan_coord),\n",
    "                  norm_temp(temp_coord),\n",
    "                  alpha=0.75, cmap=plt.get_cmap('coolwarm'))\n",
    "ax.scatter(time_coord[:,0],\n",
    "        norm_var(var_idx, Xfiltered[:, 0]),\n",
    "        norm_temp(Yfiltered),\n",
    "       c='red', label='Historic fan speed')\n",
    "ax.scatter(time_coord[:,0],\n",
    "           norm_var(0, fan_coord[np.arange(len(fan_coord)).astype(int), min_fan_idx]),\n",
    "           norm_temp(temp_coord[np.arange(len(temp_coord)).astype(int), min_fan_idx]),\n",
    "          c='g', label='Optimal fan speed')\n",
    "\n",
    "ax.set_xlabel('Time')\n",
    "ax.set_ylabel('Fan speed %')\n",
    "ax.set_zlabel('Temperature')\n",
    "ax.legend()"
   ]
  },
  {
   "cell_type": "code",
   "execution_count": null,
   "metadata": {
    "scrolled": false
   },
   "outputs": [],
   "source": [
    "print('Score on all control:\\t{:.4f}'.format(est.score(Xtest, Ytest)))"
   ]
  },
  {
   "cell_type": "markdown",
   "metadata": {},
   "source": [
    "## RNN\n",
    "\n",
    "The MLP model assumes no delay between input variables and output. This is a simplifying assumption. Water takes some time to travel through the cooling tower. So the temperature of the water coming out is a function of a history of the tower's prior states *and* the current inputs."
   ]
  },
  {
   "cell_type": "code",
   "execution_count": null,
   "metadata": {},
   "outputs": [],
   "source": [
    "Xtrain, Xtest, Ytrain, Ytest = train_test_split(X, Y, test_size=0.1, shuffle=False)\n",
    "# indices of contiguous sequences in df\n",
    "seqIdxTrain = contiguous_sequences(Xtrain.index, pd.Timedelta('5T'))\n",
    "seqIdxTest = contiguous_sequences(Xtest.index, pd.Timedelta('5T'))\n",
    "print(f'{len(seqIdxTrain)} sequences in train set')\n",
    "print(f'{len(seqIdxTest)} sequences in test set')"
   ]
  },
  {
   "cell_type": "code",
   "execution_count": null,
   "metadata": {},
   "outputs": [],
   "source": [
    "# Generating sequences for training.\n",
    "# seqX: SeqLength x N x 5 features, seqY: SeqLength x N\n",
    "# Where SeqLength is the length of the longest sequence.\n",
    "# The sequences are sorted by length and 0-padded.\n",
    "seqX = list(map(lambda idx: torch.tensor(X.loc[idx].values), seqIdxTrain))\n",
    "seqX = sorted(seqX, key=len)\n",
    "seqX = pad_sequence(seqX, batch_first=False)\n",
    "\n",
    "seqY = list(map(lambda idx: torch.tensor(Y.loc[idx].values), seqIdxTrain))\n",
    "seqY = sorted(seqY, key=len)\n",
    "seqY = pad_sequence(seqY, batch_first=False)"
   ]
  },
  {
   "cell_type": "code",
   "execution_count": null,
   "metadata": {},
   "outputs": [],
   "source": [
    "# creating an LSTM\n",
    "# The model accepts data in the form:\n",
    "#     [SequenceLength (L) x BatchSize (N) x Features (F)]\n",
    "# This is the *default* form RNNs accept data in, and is explicitly\n",
    "# passed on using the argument `batch_first=False`.\n",
    "class Model(nn.Module):\n",
    "    \n",
    "    def __init__(self, features=5, batch_first=False):\n",
    "        super().__init__()\n",
    "        self.batch_first = batch_first\n",
    "        self.features = features\n",
    "        self.fc1 = nn.Linear(self.features, 10)\n",
    "        self.fc2 = nn.Linear(10, 10)\n",
    "        self.rnn1 = nn.RNN(input_size=10, hidden_size=5,\n",
    "                           nonlinearity='relu', batch_first=batch_first)\n",
    "        self.rnn2 = nn.RNN(input_size=10, hidden_size=5,\n",
    "                           nonlinearity='relu', batch_first=batch_first)\n",
    "        self.fc3 = nn.Linear(10, 1)\n",
    "    \n",
    "    \n",
    "    def forward(self, u):\n",
    "        # x' obtained from u\n",
    "        x_ = F.relu(self.fc1(u))       # L, N, 10\n",
    "        x_ = F.relu(self.fc2(x_))      # L, N, 10\n",
    "        # x obtained from x'\n",
    "        x1, _ = self.rnn1(x_)          # L, N, 5\n",
    "        x2, _ = self.rnn2(x_)          # L, N, 5\n",
    "        x = torch.cat((x1, x2), dim=2) # L, N, 10\n",
    "        # y obtained from x\n",
    "        y = self.fc3(x)                # L, N, 1\n",
    "        return y.squeeze(dim=2)        # L, N\n",
    "\n",
    "m = Model()\n",
    "\n",
    "o = m(torch.rand(10,2,5))\n",
    "print(o.size())"
   ]
  },
  {
   "cell_type": "code",
   "execution_count": null,
   "metadata": {},
   "outputs": [],
   "source": [
    "tx, ty = torch.rand(20,10,5), torch.rand(20,10)\n",
    "m = Model()\n",
    "regressor = TorchEstimator(module=m, optimizer=torch.optim.Adam(m.parameters()),\n",
    "                    loss=nn.MSELoss(), epochs=4, batch_size=5, verbose=True,\n",
    "                    cuda=False)\n",
    "est = Pipeline([('regressor', regressor)])\n",
    "est.fit(tx, ty)\n",
    "EVAP_MODEL['RNN'] = est"
   ]
  },
  {
   "cell_type": "markdown",
   "metadata": {},
   "source": [
    "# Optimizing fan speed for temperature"
   ]
  },
  {
   "cell_type": "code",
   "execution_count": null,
   "metadata": {},
   "outputs": [],
   "source": [
    "# time = datetime.time(4,0,0)\n",
    "time = datetime.date(2018,6,1)\n",
    "if isinstance(time, datetime.time):\n",
    "    select = df.index.time == time\n",
    "    tseries = df.index.date[select]\n",
    "elif isinstance(time, datetime.date):\n",
    "    select = df.index.date == time\n",
    "    tseries = df.index.time[select]\n",
    "Xfiltered = X[select]\n",
    "Yfiltered = Y[select]\n",
    "XEnergyfiltered = XEnergy[select]\n",
    "YEnergyfiltered = YEnergy[select]\n",
    "\n",
    "vary_range = (-ScalerX.mean_[0]/np.sqrt(ScalerX.var_[0]),\n",
    "              (1-ScalerX.mean_[0])/np.sqrt(ScalerX.var_[0]))\n",
    "margin = (std_temp([3]) - std_temp([0]))[0]\n",
    "\n",
    "est = EVAP_MODELS['SingleMLP']\n",
    "est_energy = ENERGY_MODELS['SingleMLP']\n",
    "gridc = GridSearchController(est, vary_range, 10, 0)\n",
    "binaryc = BinaryApproachController(est, vary_range, 10, 0, margin)"
   ]
  },
  {
   "cell_type": "code",
   "execution_count": null,
   "metadata": {},
   "outputs": [],
   "source": [
    "# Comparison of control over a contiguous time period\n",
    "Xdata = Xfiltered\n",
    "\n",
    "baseline = np.squeeze(std_temp(norm_var(3, Xdata[:, 3])))\n",
    "\n",
    "grid_fan = norm_var(0, gridc.predict(Xdata))\n",
    "binary_fan = norm_var(0, binaryc.predict(Xdata, baseline))\n",
    "\n",
    "gridXdata, binaryXdata = np.copy(Xdata), np.copy(Xdata)\n",
    "gridXdata[:, 0], binaryXdata[:, 0] = grid_fan, binary_fan\n",
    "\n",
    "plt.figure()\n",
    "sgc = plt.plot(np.arange(len(grid_fan)), grid_fan, label='Grid Controller')\n",
    "sbc = plt.plot(np.arange(len(grid_fan)), binary_fan, label='Binary Controller')\n",
    "plt.sca(plt.gca().twinx())\n",
    "sgt = plt.plot(np.arange(len(grid_fan)), norm_temp(est.predict(gridXdata)), label='Grid Temps')\n",
    "sbt = plt.plot(np.arange(len(grid_fan)), norm_temp(est.predict(binaryXdata)), label='Binary Temps')\n",
    "plots = sgc + sbc + sgt + sbt\n",
    "labels = [p.get_label() for p in plots]\n",
    "plt.legend(plots, labels)\n",
    "plt.show()"
   ]
  },
  {
   "cell_type": "code",
   "execution_count": null,
   "metadata": {},
   "outputs": [],
   "source": [
    "# Energy saving plots\n",
    "Xdata = XEnergyfiltered\n",
    "grid_temp, binary_temp = est.predict(gridXdata), est.predict(binaryXdata)\n",
    "gridXdata, binaryXdata = np.copy(Xdata), np.copy(Xdata)\n",
    "gridXdata[:, 0], binaryXdata[:, 0] = grid_temp, binary_temp\n",
    "\n",
    "grid_energy, binary_energy = est_energy.predict(gridXdata), est_energy.predict(binaryXdata)\n",
    "\n",
    "plt.figure()\n",
    "sgc = plt.scatter(np.arange(len(grid_energy)), grid_energy, label='Grid Controller')\n",
    "sbc = plt.scatter(np.arange(len(grid_energy)), binary_energy, label='Binary Controller')\n",
    "plt.legend()\n",
    "plt.show()"
   ]
  },
  {
   "cell_type": "code",
   "execution_count": null,
   "metadata": {},
   "outputs": [],
   "source": [
    "# Comparison of control over a random sample\n",
    "Xdata = Xtest\n",
    "\n",
    "baseline = np.squeeze(std_temp(norm_var(3, Xdata[:, 3])))\n",
    "\n",
    "grid_fan = gridc.predict(Xdata)\n",
    "binary_fan = binaryc.predict(Xdata, baseline)\n",
    "\n",
    "gridXdata, binaryXdata = np.copy(Xdata), np.copy(Xdata)\n",
    "gridXdata[:, 0], binaryXdata[:, 0] = grid_fan, binary_fan\n",
    "\n",
    "plt.figure()\n",
    "plt.subplot(121)\n",
    "plt.hist(norm_var(0, grid_fan), label='Grid Controller', histtype='step', density=True)\n",
    "plt.hist(norm_var(0, binary_fan), label='Binary Controller', histtype='step', density=True)\n",
    "plt.legend()\n",
    "plt.subplot(122)\n",
    "plt.hist(norm_temp(est.predict(gridXdata)), label='Grid Temps', histtype='step')\n",
    "plt.hist(norm_temp(est.predict(binaryXdata)), label='Binary Temps', histtype='step')\n",
    "plt.legend()\n",
    "plt.show()"
   ]
  },
  {
   "cell_type": "code",
   "execution_count": null,
   "metadata": {},
   "outputs": [],
   "source": [
    "# Energy saving plots\n",
    "Xdata = XEnergytest\n",
    "grid_temp, binary_temp = est.predict(gridXdata), est.predict(binaryXdata)\n",
    "gridXEnergydata, binaryXEnergydata = np.copy(Xdata), np.copy(Xdata)\n",
    "gridXEnergydata[:, 0], binaryXEnergydata[:, 0] = grid_temp, binary_temp\n",
    "\n",
    "grid_energy, binary_energy = est_energy.predict(gridXEnergydata), est_energy.predict(binaryXEnergydata)\n",
    "\n",
    "plt.figure()\n",
    "sgc = plt.hist(norm_energy(grid_energy), label='Grid Controller', histtype='step')\n",
    "sbc = plt.hist(norm_energy(binary_energy), label='Binary Controller', histtype='step')\n",
    "plt.legend()\n",
    "plt.show()"
   ]
  }
 ],
 "metadata": {
  "kernelspec": {
   "display_name": "Python 3",
   "language": "python",
   "name": "python3"
  },
  "language_info": {
   "codemirror_mode": {
    "name": "ipython",
    "version": 3
   },
   "file_extension": ".py",
   "mimetype": "text/x-python",
   "name": "python",
   "nbconvert_exporter": "python",
   "pygments_lexer": "ipython3",
   "version": "3.7.1"
  }
 },
 "nbformat": 4,
 "nbformat_minor": 2
}
