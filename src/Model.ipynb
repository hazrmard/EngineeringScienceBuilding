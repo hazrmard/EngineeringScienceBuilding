{
 "cells": [
  {
   "cell_type": "code",
   "execution_count": 21,
   "metadata": {},
   "outputs": [],
   "source": [
    "%matplotlib notebook\n",
    "%reload_ext autoreload\n",
    "%autoreload 2\n",
    "\n",
    "import datetime\n",
    "from os import path, environ\n",
    "\n",
    "import numpy as np\n",
    "import pandas as pd\n",
    "from sklearn.preprocessing import StandardScaler\n",
    "from sklearn.pipeline import Pipeline\n",
    "from sklearn.neural_network import MLPRegressor\n",
    "from sklearn.model_selection import train_test_split\n",
    "import ipyvolume as ipv\n",
    "# source file, see docs/5-dataset.md for info on field names\n",
    "chiller_file = path.join(environ['DATADIR'], 'EngineeringScienceBuilding', 'Chillers.csv')\n",
    "plot_path = path.join('..', 'docs', 'img')"
   ]
  },
  {
   "cell_type": "code",
   "execution_count": 2,
   "metadata": {},
   "outputs": [],
   "source": [
    "# Read pre-processed data\n",
    "df = pd.read_csv(chiller_file, index_col='Time', parse_dates=True, dtype=float)"
   ]
  },
  {
   "cell_type": "markdown",
   "metadata": {},
   "source": [
    "# Evaporative Cooling Model\n",
    "\n",
    "Modelling the relationship between the cooling done by the cooling tower and the environmental, system, and control inputs.\n",
    "\n",
    "$$\n",
    "\\begin{align*}\n",
    "T(t) &= T(0) e^{-\\frac{k T_a v_f R}{T_w c_m m} t}\n",
    "\\end{align*}\n",
    "$$\n",
    "\n",
    "Where:\n",
    "\n",
    "* $T(0)$ is the warm entering water temperature `TempCondOut`,\n",
    "* $T(t)$ is the exiting cool water temperature `TempCondIn`,\n",
    "* $T_a$ is ambient air temperature `TempAmbient`,\n",
    "* $v_f$ is avarage fan speed `0.5 * (PerFreqFanA + PerFreqFanB)`,\n",
    "* $R$ is solar irradiance - constant if assuming shade.\n",
    "* $T_w$ is wet-bulb temperature `TempWetBulb`,\n",
    "* $c_m$ is specific mass heat capacity of water,\n",
    "* $m$ is the mass of water being cooled - constant if assuming steady flow rate.\n",
    "\n",
    "The model predicts $T(t)$ from all other factors.\n",
    "\n",
    "## Multi-Layer Perceptron\n",
    "\n",
    "Assuming steady flow rate, constant irradiance."
   ]
  },
  {
   "cell_type": "code",
   "execution_count": 26,
   "metadata": {},
   "outputs": [],
   "source": [
    "# Data\n",
    "feature_cols = ['TempCondOut', 'PerFreqFanA', 'PerFreqFanB', 'TempAmbient', 'TempWetBulb'] \n",
    "X = df.loc[:, feature_cols]\n",
    "Y = df['TempCondIn']\n",
    "Xtrain, Xtest, Ytrain, Ytest = train_test_split(X, Y, test_size=0.1)"
   ]
  },
  {
   "cell_type": "code",
   "execution_count": 27,
   "metadata": {},
   "outputs": [],
   "source": [
    "# Pipeline\n",
    "scaler = StandardScaler()              # scale to 0 mean and unit variance\n",
    "regressor = MLPRegressor(hidden_layer_sizes=(20,20), \n",
    "                         learning_rate_init=1e-3,\n",
    "                         verbose=True) # regression model\n",
    "reg = Pipeline([('scaler', scaler), ('regressor', regressor)])"
   ]
  },
  {
   "cell_type": "code",
   "execution_count": null,
   "metadata": {
    "scrolled": false
   },
   "outputs": [],
   "source": [
    "reg.fit(Xtrain, Ytrain)\n",
    "reg.score(Xtest, Ytest)"
   ]
  },
  {
   "cell_type": "code",
   "execution_count": null,
   "metadata": {},
   "outputs": [],
   "source": [
    "# Plotting learned function\n"
   ]
  }
 ],
 "metadata": {
  "kernelspec": {
   "display_name": "Python 3",
   "language": "python",
   "name": "python3"
  },
  "language_info": {
   "codemirror_mode": {
    "name": "ipython",
    "version": 3
   },
   "file_extension": ".py",
   "mimetype": "text/x-python",
   "name": "python",
   "nbconvert_exporter": "python",
   "pygments_lexer": "ipython3",
   "version": "3.7.2"
  }
 },
 "nbformat": 4,
 "nbformat_minor": 2
}
