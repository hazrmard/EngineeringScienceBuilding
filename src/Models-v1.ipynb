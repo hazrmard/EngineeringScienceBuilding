{
 "cells": [
  {
   "cell_type": "markdown",
   "metadata": {},
   "source": [
    "Uses `v1` dataset."
   ]
  },
  {
   "cell_type": "code",
   "execution_count": null,
   "metadata": {},
   "outputs": [],
   "source": [
    "import sys, os\n",
    "pytorchbridge_path = os.path.abspath('../../pyTorchBridge')\n",
    "if pytorchbridge_path not in sys.path:\n",
    "    sys.path.append(pytorchbridge_path)"
   ]
  },
  {
   "cell_type": "code",
   "execution_count": null,
   "metadata": {},
   "outputs": [],
   "source": [
    "%matplotlib notebook\n",
    "%reload_ext autoreload\n",
    "%autoreload 2\n",
    "\n",
    "import datetime\n",
    "from os import path, environ\n",
    "import pickle\n",
    "\n",
    "import numpy as np\n",
    "import pandas as pd\n",
    "from sklearn.preprocessing import StandardScaler\n",
    "from sklearn.pipeline import Pipeline\n",
    "from sklearn.neural_network import MLPRegressor\n",
    "from sklearn.model_selection import train_test_split, GridSearchCV, KFold\n",
    "import torch\n",
    "import torch.nn as nn\n",
    "import matplotlib.pyplot as plt\n",
    "from mpl_toolkits.mplot3d import Axes3D\n",
    "from pytorchbridge import TorchEstimator\n",
    "\n",
    "from utils.stats import temporal_correlations\n",
    "from plotting import model_surface, plot_surface\n",
    "from controller import GridSearchController, \\\n",
    "                       BinaryApproachController, \\\n",
    "                       QuasiNewtonController\n",
    "# source file, see docs/5-dataset.md for info on field names\n",
    "chiller_file = path.join(environ['DATADIR'],\n",
    "                         'EngineeringScienceBuilding',\n",
    "                         'Chillers.csv')\n",
    "plot_path = path.join('..', 'docs', 'img')"
   ]
  },
  {
   "cell_type": "code",
   "execution_count": null,
   "metadata": {},
   "outputs": [],
   "source": [
    "# Data selection 'all' or 'chiller_on' or 'fan_on'\n",
    "MODE = 'chiller_on'\n",
    "# Read pre-processed data:\n",
    "# Pytorch uses float32 as default type for weights etc,\n",
    "# so input data points are also read in the same type.\n",
    "df = pd.read_csv(chiller_file, index_col='Time',\n",
    "                 parse_dates=['Time'], dtype=np.float32)\n",
    "df.dropna(inplace=True)\n",
    "if MODE == 'chiller_on':\n",
    "    df = df[df['PowChi'] != 0.]\n",
    "if MODE == 'fan_on':\n",
    "    df = df[(df['PerFreqFanA'] != 0.) | df['PerFreqFanB'] != 0.]\n",
    "print(len(df), 'Records')"
   ]
  },
  {
   "cell_type": "code",
   "execution_count": null,
   "metadata": {},
   "outputs": [],
   "source": [
    "# Time at which to draw sample plots\n",
    "# time = datetime.time(4,0,0)\n",
    "time = datetime.date(2018,6,2)\n",
    "\n",
    "if isinstance(time, datetime.time):\n",
    "    select = df.index.time == time\n",
    "    tseries = df.index.date[select]\n",
    "elif isinstance(time, datetime.date):\n",
    "    select = df.index.date == time\n",
    "    tseries = df.index.time[select]"
   ]
  },
  {
   "cell_type": "markdown",
   "metadata": {},
   "source": [
    "# 1. Post-chiller temp model"
   ]
  },
  {
   "cell_type": "code",
   "execution_count": null,
   "metadata": {},
   "outputs": [],
   "source": [
    "# Data\n",
    "feature_cols = ('TempCondIn',                 'TempEvapIn',\n",
    "                'TempEvapOut', 'TempAmbient', 'TempWetBulb',\n",
    "                'FlowEvap', 'PowConP')\n",
    "target_cols = ('TempCondOut',)\n",
    "# Normalizing data to have 0 mean and 1 variance\n",
    "XChi, YChi = df.loc[:, feature_cols], df.loc[:,target_cols]\n",
    "ScalerXChi, ScalerYChi = StandardScaler().fit(XChi), StandardScaler().fit(YChi)\n",
    "XChi, YChi = ScalerXChi.transform(XChi), np.squeeze(ScalerYChi.transform(YChi))\n",
    "XChitrain, XChitest, YChitrain, YChitest = train_test_split(XChi, YChi, test_size=0.1)\n",
    "\n",
    "norm_chi_var = lambda i, v: ScalerXChi.mean_[i] + np.sqrt(ScalerXChi.var_[i]) * v\n",
    "norm_chi = lambda v: ScalerYChi.inverse_transform(v)\n",
    "std_chi_var = lambda i, v: (v - ScalerXChi.mean_[i]) / np.sqrt(ScalerXChi.var_[i])\n",
    "\n",
    "CHILLER_MODELS = {}"
   ]
  },
  {
   "cell_type": "code",
   "execution_count": null,
   "metadata": {},
   "outputs": [],
   "source": [
    "# Searching parameter grid for best hyperparameters\n",
    "param_grid = {\n",
    "    'hidden_layer_sizes': [(4,4), (8,8), (16,16), (8,8,8), (16,16,16)],\n",
    "    'learning_rate_init': [1e-2, 1e-3, 1e-4],\n",
    "    'activation': ['relu', 'tanh', 'logistic']\n",
    "}\n",
    "\n",
    "grid_search = GridSearchCV(MLPRegressor(), param_grid, n_jobs=4, verbose=1,\n",
    "                           cv=KFold(3, shuffle=True))\n",
    "grid_search.fit(XChitrain, YChitrain)\n",
    "\n",
    "est = grid_search.best_estimator_\n",
    "print('Test score:', est.score(XChitest, YChitest))\n",
    "\n",
    "CHILLER_MODELS['SingleMLP'] = est\n",
    "pickle.dump(est, open('./bin/chiller_{}.pickle'.format(MODE), 'wb'))\n",
    "\n",
    "grid_res = pd.DataFrame(grid_search.cv_results_).sort_values('rank_test_score')\n",
    "grid_res.head()"
   ]
  },
  {
   "cell_type": "code",
   "execution_count": null,
   "metadata": {},
   "outputs": [],
   "source": [
    "# Load model from file instead of training\n",
    "est = pickle.load(open('./bin/chiller_{}.pickle'.format(MODE), 'rb'))\n",
    "CHILLER_MODELS['SingleMLP'] = est"
   ]
  },
  {
   "cell_type": "code",
   "execution_count": null,
   "metadata": {},
   "outputs": [],
   "source": [
    "# Plot model predictions when varying 2 fields at a single time instant\n",
    "dt = datetime.datetime(2018, 6, 2, 15, 0, 0)\n",
    "select = df.index == dt\n",
    "singleX, singleY = XChi[select], YChi[select]\n",
    "var, var_idx = ('TempCondIn', 'PowConP'), (0, 6)\n",
    "vary_range = ((std_chi_var(var_idx[0], 293), 1.),\n",
    "              (std_chi_var(var_idx[1], 0), 1.5))\n",
    "\n",
    "x, y, z = model_surface(CHILLER_MODELS['SingleMLP'], singleX, var_idx,\n",
    "                        vary_range, (10, 10))\n",
    "ax = plot_surface(norm_chi_var(var_idx[0], x),\n",
    "                  norm_chi_var(var_idx[1], y),\n",
    "                  norm_chi(z),\n",
    "                  alpha=0.75, cmap=plt.get_cmap('coolwarm'))\n",
    "ax.set_xlabel(var[0], labelpad=20)\n",
    "ax.set_ylabel(var[1])\n",
    "ax.set_zlabel('Temperature / K')\n",
    "plt.title('Temperature Extrapolation ' + dt.isoformat());"
   ]
  },
  {
   "cell_type": "markdown",
   "metadata": {},
   "source": [
    "# 2. Chiller Energy Model"
   ]
  },
  {
   "cell_type": "code",
   "execution_count": null,
   "metadata": {},
   "outputs": [],
   "source": [
    "# Data\n",
    "feature_cols = ('TempCondIn', 'TempCondOut', 'TempEvapIn',\n",
    "                'TempEvapOut', 'TempAmbient', 'TempWetBulb',\n",
    "                'FlowEvap', 'PowConP')\n",
    "target_cols = ('PowChi',)\n",
    "# Normalizing data to have 0 mean and 1 variance\n",
    "XEnergy, YEnergy = df.loc[:, feature_cols], df.loc[:,target_cols]\n",
    "ScalerXEnergy, ScalerYEnergy = StandardScaler().fit(XEnergy), StandardScaler().fit(YEnergy)\n",
    "XEnergy, YEnergy = ScalerXEnergy.transform(XEnergy), np.squeeze(ScalerYEnergy.transform(YEnergy))\n",
    "XEnergytrain, XEnergytest, YEnergytrain, YEnergytest = train_test_split(XEnergy, YEnergy, test_size=0.1)\n",
    "\n",
    "norm_energy_var = lambda i, v: ScalerXEnergy.mean_[i] + np.sqrt(ScalerXEnergy.var_[i]) * v\n",
    "norm_energy = lambda v: ScalerYEnergy.inverse_transform(v)\n",
    "std_energy_var = lambda i, v: (v - ScalerXEnergy.mean_[i]) / np.sqrt(ScalerXEnergy.var_[i])\n",
    "\n",
    "ENERGY_MODELS = {}"
   ]
  },
  {
   "cell_type": "code",
   "execution_count": null,
   "metadata": {},
   "outputs": [],
   "source": [
    "# Searching parameter grid for best hyperparameters\n",
    "param_grid = {\n",
    "    'hidden_layer_sizes': [(4,4), (8,8), (16,16), (8,8,8), (16,16,16)],\n",
    "    'learning_rate_init': [1e-2, 1e-3, 1e-4],\n",
    "    'activation': ['relu', 'tanh', 'logistic']\n",
    "}\n",
    "\n",
    "grid_search = GridSearchCV(MLPRegressor(), param_grid, n_jobs=4,\n",
    "                           verbose=1, cv=KFold(3, shuffle=True))\n",
    "grid_search.fit(XEnergytrain, YEnergytrain)\n",
    "\n",
    "est = grid_search.best_estimator_\n",
    "print('Test score:', est.score(XEnergytest, YEnergytest))\n",
    "\n",
    "ENERGY_MODELS['SingleMLP'] = est\n",
    "pickle.dump(est, open('./bin/PowChi_{}.pickle'.format(MODE), 'wb'))\n",
    "\n",
    "grid_res = pd.DataFrame(grid_search.cv_results_)\\\n",
    "             .sort_values('rank_test_score')\n",
    "grid_res.head()"
   ]
  },
  {
   "cell_type": "code",
   "execution_count": null,
   "metadata": {},
   "outputs": [],
   "source": [
    "# Load model from file instead of training\n",
    "est = pickle.load(open('./bin/PowChi_{}.pickle'.format(MODE), 'rb'))\n",
    "ENERGY_MODELS['SingleMLP'] = est"
   ]
  },
  {
   "cell_type": "code",
   "execution_count": null,
   "metadata": {},
   "outputs": [],
   "source": [
    "# Plot historic predictions\n",
    "Xfiltered = XEnergy[select]\n",
    "Yfiltered = YEnergy[select]\n",
    "\n",
    "plt.scatter(np.arange(len(tseries)),\n",
    "            ScalerYEnergy.inverse_transform(Yfiltered),\n",
    "            c='r', label='Historic')\n",
    "plt.scatter(np.arange(len(tseries)),\n",
    "            ScalerYEnergy.inverse_transform(est.predict(Xfiltered)),\n",
    "            c='g', label='Predicted')\n",
    "plt.title('Power Model ' + time.isoformat())\n",
    "plt.ylabel('Power / W')\n",
    "plt.xlabel('Date/Time')\n",
    "plt.legend();\n",
    "ticks, labels = plt.xticks()\n",
    "ticks = np.asarray([t for t in ticks if 0 <= t < len(tseries)])\n",
    "plt.xticks(ticks, tseries[ticks.astype(int)]);"
   ]
  },
  {
   "cell_type": "code",
   "execution_count": null,
   "metadata": {
    "scrolled": false
   },
   "outputs": [],
   "source": [
    "# Plot model predictions when varying a field\n",
    "# var= 'TempCondIn'\n",
    "var= 'PowConP'\n",
    "var_idx = feature_cols.index(var)\n",
    "\n",
    "vary_range = (std_energy_var(var_idx, 273), 2.)\n",
    "_, y, z = model_surface(ENERGY_MODELS['SingleMLP'], Xfiltered, (var_idx,),\n",
    "                        (vary_range,), (20,))\n",
    "ax = plot_surface(tseries,\n",
    "                  norm_energy_var(var_idx, y),\n",
    "                  norm_energy(z),\n",
    "                  alpha=0.75, cmap=plt.get_cmap('coolwarm'))\n",
    "ax.set_xlabel('Date/Time', labelpad=20)\n",
    "ax.set_ylabel(var)\n",
    "ax.set_zlabel('Power / W')\n",
    "plt.title('Power Extrapolation ' + time.isoformat());"
   ]
  },
  {
   "cell_type": "code",
   "execution_count": null,
   "metadata": {},
   "outputs": [],
   "source": [
    "# Plot model predictions when varying 2 fields at a single time instant\n",
    "dt = datetime.datetime(2018, 6, 2, 15, 0, 0)\n",
    "select = df.index == dt\n",
    "singleX, singleY = XEnergy[select], YEnergy[select]\n",
    "var, var_idx = ('TempCondIn', 'PowConP'), (0, 7)\n",
    "vary_range = ((std_energy_var(var_idx[0], 293), 1.),\n",
    "              (std_energy_var(var_idx[1], 0), 1.))\n",
    "\n",
    "x, y, z = model_surface(ENERGY_MODELS['SingleMLP'], singleX, var_idx,\n",
    "                        vary_range, (10, 10))\n",
    "ax = plot_surface(norm_energy_var(var_idx[0], x),\n",
    "                  norm_energy_var(var_idx[1], y),\n",
    "                  norm_energy(z),\n",
    "                  alpha=0.75, cmap=plt.get_cmap('coolwarm'))\n",
    "ax.set_xlabel(var[0], labelpad=20)\n",
    "ax.set_ylabel(var[1])\n",
    "ax.set_zlabel('Power / W')\n",
    "plt.title('Power Extrapolation ' + dt.isoformat());"
   ]
  },
  {
   "cell_type": "markdown",
   "metadata": {},
   "source": [
    "# 3. Evaporative Cooling Model"
   ]
  },
  {
   "cell_type": "code",
   "execution_count": null,
   "metadata": {},
   "outputs": [],
   "source": [
    "# Data\n",
    "fan_cols = ('PerFreqFanA', 'PerFreqFanB')\n",
    "feature_cols = ('TempCondOut', 'TempAmbient', 'TempWetBulb', 'PowConP')\n",
    "target_cols = ('TempCondIn',)\n",
    "# Combining 2 fan speed controls into a single variable (averaged)\n",
    "X = pd.concat((df.loc[:, fan_cols].mean(axis=1), \n",
    "               df.loc[:, feature_cols]), axis=1)\n",
    "Y = df.loc[:,target_cols]\n",
    "# Normalizing data to have 0 mean and 1 variance\n",
    "ScalerX, ScalerY = StandardScaler().fit(X), StandardScaler().fit(Y)\n",
    "X, Y = ScalerX.transform(X), np.squeeze(ScalerY.transform(Y))\n",
    "# generating training/testing sets\n",
    "Xtrain, Xtest, Ytrain, Ytest = train_test_split(X, Y, test_size=0.1)\n",
    "\n",
    "# Convert feature variables or target to normal or standardized form:\n",
    "# i - is the index of the variable in the feature array\n",
    "# v - is an array of values to transform\n",
    "norm_var = lambda i, v: ScalerX.mean_[i] + np.sqrt(ScalerX.var_[i]) * v\n",
    "std_var = lambda i, v: (v - ScalerX.mean_[i]) / np.sqrt(ScalerX.var_[i])\n",
    "norm_temp = lambda v: ScalerY.inverse_transform([v])[0]\n",
    "std_temp = lambda v: ScalerY.transform([v])[0]\n",
    "\n",
    "EVAP_MODELS = {}"
   ]
  },
  {
   "cell_type": "code",
   "execution_count": null,
   "metadata": {},
   "outputs": [],
   "source": [
    "# Searching parameter grid for best hyperparameters\n",
    "param_grid = {\n",
    "    'hidden_layer_sizes': [(4, 4, 4), (8, 8, 8), (16, 16, 16)],\n",
    "    'learning_rate_init': [1e-2, 1e-3, 1e-4],\n",
    "    'activation': ['relu', 'tanh', 'logistic']\n",
    "}\n",
    "\n",
    "grid_search = GridSearchCV(MLPRegressor(), param_grid, n_jobs=4, verbose=1, cv=KFold(3, shuffle=True))\n",
    "grid_search.fit(Xtrain, Ytrain)\n",
    "\n",
    "est = grid_search.best_estimator_\n",
    "print('Test score:', est.score(Xtest, Ytest))\n",
    "\n",
    "EVAP_MODELS['SingleMLP'] = est\n",
    "pickle.dump(est, open('./bin/evap_{}.pickle'.format(MODE), 'wb'))\n",
    "\n",
    "grid_res = pd.DataFrame(grid_search.cv_results_).sort_values('rank_test_score')\n",
    "grid_res.head()"
   ]
  },
  {
   "cell_type": "code",
   "execution_count": null,
   "metadata": {},
   "outputs": [],
   "source": [
    "est = pickle.load(open('./bin/evap_{}.pickle'.format(MODE), 'rb'))\n",
    "EVAP_MODELS['SingleMLP'] = est"
   ]
  },
  {
   "cell_type": "code",
   "execution_count": null,
   "metadata": {},
   "outputs": [],
   "source": [
    "# Plot model predictions when varying a single field over a series of times\n",
    "Xfiltered = X[select]\n",
    "Yfiltered = Y[select]\n",
    "\n",
    "# var, var_idx = 'PerFreqFan', 0\n",
    "var, var_idx = 'PowConP', 4\n",
    "\n",
    "vary_range = (std_var(var_idx, 0), 1.)  # vary from 0 to 1 std dev above mean\n",
    "\n",
    "_, y, z = model_surface(EVAP_MODELS['SingleMLP'], Xfiltered, (var_idx,), (vary_range,), (10,))\n",
    "ax = plot_surface(tseries,\n",
    "                  norm_var(var_idx, y),\n",
    "                  norm_temp(z),\n",
    "                  alpha=0.75, cmap=plt.get_cmap('coolwarm'))\n",
    "ax.set_xlabel('Date/Time', labelpad=20)\n",
    "ax.set_ylabel(var)\n",
    "ax.set_zlabel('Temperature')\n",
    "plt.title('Temperature Extrapolation ' + time.isoformat());"
   ]
  },
  {
   "cell_type": "code",
   "execution_count": null,
   "metadata": {},
   "outputs": [],
   "source": [
    "# Plot model predictions when varying 2 fields at a single time instant\n",
    "dt = datetime.datetime(2018, 6, 2, 15, 0, 0)\n",
    "select = df.index == dt\n",
    "singleX, singleY = X[select], Y[select]\n",
    "var, var_idx = ('PerFreqFan', 'PowConP'), (0, 4)\n",
    "vary_range = ((std_var(var_idx[0], 0), 1.), (std_var(var_idx[1], 0), 1.))  # vary from 0 to 1 std dev above mean\n",
    "\n",
    "x, y, z = model_surface(EVAP_MODELS['SingleMLP'], singleX, var_idx, vary_range, (10, 10))\n",
    "ax = plot_surface(norm_var(var_idx[0], x),\n",
    "                  norm_var(var_idx[1], y),\n",
    "                  norm_temp(z),\n",
    "                  alpha=0.75, cmap=plt.get_cmap('coolwarm'))\n",
    "ax.set_xlabel(var[0], labelpad=20)\n",
    "ax.set_ylabel(var[1])\n",
    "ax.set_zlabel('TempCondIn')\n",
    "plt.title('Temperature Extrapolation ' + dt.isoformat());"
   ]
  },
  {
   "cell_type": "markdown",
   "metadata": {},
   "source": [
    "# 4. Cooling tower fan power model"
   ]
  },
  {
   "cell_type": "code",
   "execution_count": null,
   "metadata": {},
   "outputs": [],
   "source": [
    "# Data\n",
    "fan_cols = ('PerFreqFanA', 'PerFreqFanB')\n",
    "feature_cols = ('TempAmbient', 'TempWetBulb',)\n",
    "target_cols = ('PowFanA', 'PowFanB')\n",
    "XPower = pd.concat((df.loc[:, fan_cols].mean(axis=1), \n",
    "                   df.loc[:, feature_cols]), axis=1)\n",
    "YPower = df.loc[:,target_cols].mean(axis=1)[:, None]\n",
    "ScalerXPower, ScalerYPower = StandardScaler().fit(XPower), StandardScaler().fit(YPower)\n",
    "XPower, YPower = ScalerXPower.transform(XPower), np.squeeze(ScalerYPower.transform(YPower))\n",
    "XPowertrain, XPowertest, YPowertrain, YPowertest = train_test_split(XPower, YPower, test_size=0.1)\n",
    "\n",
    "norm_power_var = lambda i, v: ScalerXPower.mean_[i] + np.sqrt(ScalerXPower.var_[i]) * v\n",
    "norm_power = lambda v: ScalerYPower.inverse_transform(v)\n",
    "std_power_var = lambda i, v: (v - ScalerXPower.mean_[i]) / np.sqrt(ScalerXPower.var_[i])\n",
    "\n",
    "POWER_MODELS = {}"
   ]
  },
  {
   "cell_type": "code",
   "execution_count": null,
   "metadata": {},
   "outputs": [],
   "source": [
    "# Searching parameter grid for best hyperparameters\n",
    "param_grid = {\n",
    "    'hidden_layer_sizes': [(4,4), (8,8), (16,16), (8,8,8), (16,16,16)],\n",
    "    'learning_rate_init': [1e-2, 1e-3, 1e-4],\n",
    "    'activation': ['relu', 'tanh', 'logistic']\n",
    "}\n",
    "\n",
    "grid_search = GridSearchCV(MLPRegressor(), param_grid, n_jobs=4,\n",
    "                           verbose=1, cv=KFold(3, shuffle=True))\n",
    "grid_search.fit(XPowertrain, YPowertrain)\n",
    "\n",
    "est = grid_search.best_estimator_\n",
    "print('Test score:', est.score(XPowertest, YPowertest))\n",
    "\n",
    "POWER_MODELS['SingleMLP'] = est\n",
    "pickle.dump(est, open('./bin/power_{}.pickle'.format(MODE), 'wb'))\n",
    "\n",
    "grid_res = pd.DataFrame(grid_search.cv_results_)\\\n",
    "             .sort_values('rank_test_score')\n",
    "grid_res.head()"
   ]
  },
  {
   "cell_type": "code",
   "execution_count": null,
   "metadata": {},
   "outputs": [],
   "source": [
    "# Load model from file instead of training\n",
    "est = pickle.load(open('./bin/power_{}.pickle'.format(MODE), 'rb'))\n",
    "POWER_MODELS['SingleMLP'] = est"
   ]
  },
  {
   "cell_type": "code",
   "execution_count": null,
   "metadata": {},
   "outputs": [],
   "source": [
    "# Plot historic predictions\n",
    "Xfiltered = XPower[select]\n",
    "Yfiltered = YPower[select]\n",
    "\n",
    "plt.scatter(np.arange(len(tseries)),\n",
    "            ScalerYPower.inverse_transform(Yfiltered),\n",
    "            c='r', label='Historic')\n",
    "plt.scatter(np.arange(len(tseries)),\n",
    "            ScalerYPower.inverse_transform(est.predict(Xfiltered)),\n",
    "            c='g', label='Predicted')\n",
    "plt.title('Fan Power Model ' + time.isoformat())\n",
    "plt.ylabel('Power / W')\n",
    "plt.xlabel('Date/Time')\n",
    "plt.legend();\n",
    "ticks, labels = plt.xticks()\n",
    "ticks = np.asarray([t for t in ticks if 0 <= t < len(tseries)])\n",
    "plt.xticks(ticks, tseries[ticks.astype(int)]);"
   ]
  },
  {
   "cell_type": "code",
   "execution_count": null,
   "metadata": {
    "scrolled": false
   },
   "outputs": [],
   "source": [
    "# Plot model predictions when varying a field\n",
    "# var= 'TempCondIn'\n",
    "var, var_idx = 'PerFanFreq', 0\n",
    "\n",
    "vary_range = (std_power_var(var_idx, 0),\n",
    "              std_power_var(var_idx, 1))\n",
    "_, y, z = model_surface(POWER_MODELS['SingleMLP'], Xfiltered, (var_idx,),\n",
    "                        (vary_range,), (20,))\n",
    "ax = plot_surface(tseries,\n",
    "                  norm_power_var(var_idx, y),\n",
    "                  norm_power(z),\n",
    "                  alpha=0.75, cmap=plt.get_cmap('coolwarm'))\n",
    "ax.set_xlabel('Date/Time', labelpad=20)\n",
    "ax.set_ylabel(var)\n",
    "ax.set_zlabel('Power / W')\n",
    "plt.title('Fan Power Extrapolation ' + time.isoformat());"
   ]
  },
  {
   "cell_type": "code",
   "execution_count": null,
   "metadata": {},
   "outputs": [],
   "source": [
    "# Plot model predictions when varying 2 fields at a single time instant\n",
    "dt = datetime.datetime(2018, 6, 2, 15, 0, 0)\n",
    "select = df.index == dt\n",
    "singleX, singleY = XPower[select], YPower[select]\n",
    "var, var_idx = ('PerFreqFan', 'TempAmbient'), (0, 1)\n",
    "vary_range = ((std_power_var(var_idx[0], 0), std_power_var(var_idx[0], 1)),\n",
    "              (std_power_var(var_idx[1], 273), std_power_var(var_idx[1], 300)))\n",
    "\n",
    "x, y, z = model_surface(POWER_MODELS['SingleMLP'], singleX, var_idx,\n",
    "                        vary_range, (10, 10))\n",
    "ax = plot_surface(norm_power_var(var_idx[0], x),\n",
    "                  norm_power_var(var_idx[1], y),\n",
    "                  norm_power(z),\n",
    "                  alpha=0.75, cmap=plt.get_cmap('coolwarm'))\n",
    "ax.set_xlabel(var[0], labelpad=20)\n",
    "ax.set_ylabel(var[1])\n",
    "ax.set_zlabel('Power / W')\n",
    "plt.title('Fan Power Extrapolation ' + dt.isoformat());"
   ]
  }
 ],
 "metadata": {
  "file_extension": ".py",
  "kernelspec": {
   "display_name": "Python 3",
   "language": "python",
   "name": "python3"
  },
  "language_info": {
   "codemirror_mode": {
    "name": "ipython",
    "version": 3
   },
   "file_extension": ".py",
   "mimetype": "text/x-python",
   "name": "python",
   "nbconvert_exporter": "python",
   "pygments_lexer": "ipython3",
   "version": "3.7.6"
  },
  "mimetype": "text/x-python",
  "name": "python",
  "npconvert_exporter": "python",
  "pygments_lexer": "ipython3",
  "version": 3
 },
 "nbformat": 4,
 "nbformat_minor": 2
}
