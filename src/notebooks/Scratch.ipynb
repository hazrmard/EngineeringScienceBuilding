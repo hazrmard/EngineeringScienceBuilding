{
 "cells": [
  {
   "cell_type": "code",
   "execution_count": 5,
   "metadata": {},
   "outputs": [],
   "source": [
    "%reload_ext autoreload\n",
    "%autoreload 2\n",
    "try:\n",
    "    import notebook_setup\n",
    "except ImportError:\n",
    "    print('Could not import notebook setup file (not critical).')\n",
    "\n",
    "import os\n",
    "import numpy as np\n",
    "import matplotlib.pyplot as plt\n",
    "from datetime import datetime, timezone, timedelta\n",
    "from sklearn.preprocessing import MinMaxScaler\n",
    "from sklearn.model_selection import train_test_split\n",
    "from sklearn.neural_network import MLPRegressor\n",
    "\n",
    "from bdx import get_trend\n",
    "try:\n",
    "    from utils import get_credentials\n",
    "    username, password = get_credentials()\n",
    "except ImportError:\n",
    "    print('Manually specify username and password')\n",
    "    username, password = None, None\n",
    "\n",
    "cst = timezone(offset=-timedelta(hours=6))\n",
    "cdt = timezone(offset=-timedelta(hours=5))\n",
    "\n",
    "trend = '3481'      # python setpoint trend\n",
    "ch2trend = '2841'  # chiller 2 detailed trend\n",
    "ch1trend = '2422'  # chiller 1 detailed trend\n",
    "\n",
    "ch1start, ch1end = datetime(2021,4,1, tzinfo=cdt), datetime(2021,8,2, tzinfo=cdt)\n",
    "ch2start, ch2end = datetime(2021,4,1, tzinfo=cdt), datetime(2021,8,2, tzinfo=cdt)"
   ]
  },
  {
   "cell_type": "code",
   "execution_count": 2,
   "metadata": {},
   "outputs": [],
   "source": [
    "from controllers.esb import get_controller, get_current_state\n",
    "from controller import "
   ]
  },
  {
   "cell_type": "code",
   "execution_count": 6,
   "metadata": {},
   "outputs": [
    {
     "data": {
      "text/plain": [
       "Controller(bounds=array([[55, 75]]), stepsize=1, target='temperature',\n",
       "           tolerance=0.05, window=1)"
      ]
     },
     "execution_count": 6,
     "metadata": {},
     "output_type": "execute_result"
    }
   ],
   "source": [
    "get_controller(stepsize=1, target='temperature', bounds=((55,75),), window=1, tolerance=0.05)"
   ]
  },
  {
   "cell_type": "markdown",
   "metadata": {},
   "source": [
    "## Chiller 1"
   ]
  },
  {
   "cell_type": "code",
   "execution_count": 2,
   "metadata": {},
   "outputs": [],
   "source": [
    "data1 = get_trend(ch1trend, username, password,\n",
    "                    start=ch1start,\n",
    "                    end=ch1end)"
   ]
  },
  {
   "cell_type": "code",
   "execution_count": 3,
   "metadata": {},
   "outputs": [],
   "source": [
    "setpoint = get_trend(trend, username, password,\n",
    "                    start=ch1start,\n",
    "                    end=ch1end)\n",
    "data1['Setpoint'] = setpoint['CDWTPythonSetpt']"
   ]
  },
  {
   "cell_type": "code",
   "execution_count": null,
   "metadata": {},
   "outputs": [],
   "source": [
    "data1.describe()"
   ]
  },
  {
   "cell_type": "code",
   "execution_count": null,
   "metadata": {},
   "outputs": [],
   "source": [
    "data1.PerFreqFanA.plot()"
   ]
  },
  {
   "cell_type": "markdown",
   "metadata": {
    "heading_collapsed": true
   },
   "source": [
    "## Chiller 2"
   ]
  },
  {
   "cell_type": "code",
   "execution_count": null,
   "metadata": {
    "hidden": true
   },
   "outputs": [],
   "source": [
    "data2 = get_trend(ch2trend, username, password,\n",
    "                    start=ch2start,\n",
    "                    end=ch2end)"
   ]
  },
  {
   "cell_type": "code",
   "execution_count": null,
   "metadata": {
    "hidden": true
   },
   "outputs": [],
   "source": [
    "data2.describe()"
   ]
  },
  {
   "cell_type": "code",
   "execution_count": null,
   "metadata": {
    "hidden": true
   },
   "outputs": [],
   "source": [
    "data2.PerFreqFanA.plot()"
   ]
  },
  {
   "cell_type": "code",
   "execution_count": null,
   "metadata": {
    "hidden": true
   },
   "outputs": [],
   "source": [
    "plt.hist(data2.PerFreqFanA, density=False)"
   ]
  },
  {
   "cell_type": "markdown",
   "metadata": {
    "heading_collapsed": true
   },
   "source": [
    "## RL Controller"
   ]
  },
  {
   "cell_type": "code",
   "execution_count": 4,
   "metadata": {
    "hidden": true
   },
   "outputs": [],
   "source": [
    "# Features for the data-model for environment\n",
    "# State + action variables\n",
    "colsx = [\n",
    "    # Ambient\n",
    "    'TempWetBulb', 'TempAmbient',\n",
    "    # Machine temperatures\n",
    "    'TempCondOut',\n",
    "    # Machine state\n",
    "    'Tonnage', 'PressDiffCond',\n",
    "    # Action\n",
    "    'Setpoint'\n",
    "]\n",
    "state_vars = colsx[:-1]\n",
    "# Variables for cooling tower conditions that are staged\n",
    "ticker_vars = ['TempWetBulb', 'TempAmbient', 'Tonnage', 'PressDiffCond']\n",
    "lag = 1\n",
    "colsy = ['TempCondIn', 'TempCondOut', 'PowFanA']"
   ]
  },
  {
   "cell_type": "code",
   "execution_count": 5,
   "metadata": {
    "hidden": true
   },
   "outputs": [],
   "source": [
    "def get_env_data(df, colsx, colsy, ticker_vars, lag=1, train_split=0.9):\n",
    "    data = df.loc[:, list(set(colsx+colsy+ticker_vars))]\n",
    "    data = data.dropna(axis=0, how='any')\n",
    "    ticker = [day_data for date, day_data in data[ticker_vars].groupby(data.index.date)]\n",
    "    ticker = [t for t in ticker if len(t)==288] # all samples for a day\n",
    "    x = data.loc[data.index[:-lag], colsx]\n",
    "    y = data.loc[data.index[lag:], colsy]\n",
    "\n",
    "    scaler = MinMaxScaler(feature_range=(-1, 1))\n",
    "    x = scaler.fit_transform(x)\n",
    "    y = y.to_numpy().squeeze()\n",
    "\n",
    "    x_train, x_val, y_train, y_val = train_test_split(x, y, train_size=train_split)\n",
    "    return x_train, x_val, y_train, y_val, ticker, scaler\n",
    "\n",
    "def train_model(x, y, **model_params):\n",
    "    params = dict(hidden_layer_sizes=(32,32,32), learning_rate_init=1e-3, max_iter=500, verbose=True)\n",
    "    params.update(model_params)\n",
    "    model = MLPRegressor(**params)\n",
    "    model.fit(x, y)\n",
    "    return model\n",
    "\n",
    "def get_env(model_fn, scaler_fn, ticker, seed=0):\n",
    "    if isinstance(model_fn, sklearn.base.BaseEstimator):\n",
    "        model_fn = model_fn.predict\n",
    "    if isinstance(scaler_fn, sklearn.base.TransformerMixin):\n",
    "        scaler_fn = scaler_fn.transform\n",
    "    return CoolingTowerEnv(model_fn, ticker, seed, scaler_fn)"
   ]
  },
  {
   "cell_type": "code",
   "execution_count": null,
   "metadata": {
    "hidden": true,
    "scrolled": true
   },
   "outputs": [],
   "source": [
    "x_train1, x_val1, y_train1, y_val1, ticker1, scaler1 = get_env_data(data1, colsx, colsy, ticker_vars)\n",
    "model1 = train_model(x_train1, y_train1)"
   ]
  },
  {
   "cell_type": "code",
   "execution_count": 9,
   "metadata": {
    "hidden": true
   },
   "outputs": [],
   "source": [
    "from systems import CoolingTowerEnv\n",
    "from controllers.esb_rl import get_controller, get_current_state, update_controller"
   ]
  },
  {
   "cell_type": "code",
   "execution_count": 10,
   "metadata": {
    "hidden": true
   },
   "outputs": [],
   "source": [
    "ctrl = get_controller()"
   ]
  },
  {
   "cell_type": "code",
   "execution_count": null,
   "metadata": {
    "hidden": true
   },
   "outputs": [],
   "source": [
    "for index, state in data1.iloc[:50].iterrows():\n",
    "    action, = ctrl.predict(state)\n",
    "    update_controller(ctrl, update_interval=10)"
   ]
  },
  {
   "cell_type": "code",
   "execution_count": null,
   "metadata": {
    "hidden": true
   },
   "outputs": [],
   "source": [
    "ctrl.memory.states"
   ]
  }
 ],
 "metadata": {
  "kernelspec": {
   "display_name": "Python 3 (ipykernel)",
   "language": "python",
   "name": "python3"
  },
  "language_info": {
   "codemirror_mode": {
    "name": "ipython",
    "version": 3
   },
   "file_extension": ".py",
   "mimetype": "text/x-python",
   "name": "python",
   "nbconvert_exporter": "python",
   "pygments_lexer": "ipython3",
   "version": "3.9.9"
  }
 },
 "nbformat": 4,
 "nbformat_minor": 4
}
