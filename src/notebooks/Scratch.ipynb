{
 "cells": [
  {
   "cell_type": "code",
   "execution_count": null,
   "metadata": {},
   "outputs": [],
   "source": [
    "%reload_ext autoreload\n",
    "%autoreload 2\n",
    "\n",
    "import sys\n",
    "import logging\n",
    "from logging.handlers import HTTPHandler\n",
    "import smtplib\n",
    "import email"
   ]
  },
  {
   "cell_type": "code",
   "execution_count": null,
   "metadata": {},
   "outputs": [],
   "source": [
    "log = logging.getLogger('test')\n",
    "for h in log.handlers:\n",
    "    log.removeHandler(h)\n",
    "formatter = logging.Formatter('%(asctime)s, %(levelname)s, %(message)s',\n",
    "                              datefmt='%Y-%m-%d %H:%M:%S')\n",
    "handler_stream = logging.StreamHandler(stream=sys.stdout)\n",
    "handler_stream.setFormatter(formatter)\n",
    "log.addHandler(handler_stream)\n",
    "log.setLevel('DEBUG')\n",
    "\n",
    "handler_http = HTTPHandler(host='0.0.0.0:5000', url='/log', method='POST')\n",
    "log.addHandler(handler_http)\n",
    "\n",
    "log.info('This is a remote log', extra={'nums': (1,2,3,4,5)})"
   ]
  }
 ],
 "metadata": {
  "kernelspec": {
   "display_name": "Python 3",
   "language": "python",
   "name": "python3"
  },
  "language_info": {
   "codemirror_mode": {
    "name": "ipython",
    "version": 3
   },
   "file_extension": ".py",
   "mimetype": "text/x-python",
   "name": "python",
   "nbconvert_exporter": "python",
   "pygments_lexer": "ipython3",
   "version": "3.7.4"
  }
 },
 "nbformat": 4,
 "nbformat_minor": 4
}
