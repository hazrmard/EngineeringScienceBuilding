{
 "cells": [
  {
   "cell_type": "code",
   "execution_count": null,
   "metadata": {},
   "outputs": [],
   "source": [
    "%matplotlib notebook\n",
    "%reload_ext autoreload\n",
    "%autoreload 2\n",
    "\n",
    "import datetime\n",
    "from os import path, environ\n",
    "import pickle\n",
    "import warnings\n",
    "\n",
    "import numpy as np\n",
    "import pandas as pd\n",
    "from sklearn.preprocessing import StandardScaler\n",
    "from sklearn.pipeline import Pipeline\n",
    "from sklearn.neural_network import MLPRegressor\n",
    "from sklearn.model_selection import train_test_split, GridSearchCV, KFold\n",
    "import torch\n",
    "import torch.nn as nn\n",
    "\n",
    "from utils import contiguous_sequences\n",
    "\n",
    "# source file, see docs/5-dataset.md for info on field names\n",
    "chiller_file = path.join(environ['DATADIR'],\n",
    "                         'EngineeringScienceBuilding',\n",
    "                         'Chillers.csv')\n",
    "plot_path = path.join('..', 'docs', 'img')\n",
    "bin_path = './bin/'"
   ]
  },
  {
   "cell_type": "code",
   "execution_count": null,
   "metadata": {},
   "outputs": [],
   "source": [
    "# Data selection 'all' or 'chiller_on' or 'fan_on'\n",
    "MODE = 'chiller_on'\n",
    "# Read pre-processed data:\n",
    "# Pytorch uses float32 as default type for weights etc,\n",
    "# so input data points are also read in the same type.\n",
    "df = pd.read_csv(chiller_file, index_col='Time',\n",
    "                 parse_dates=['Time'], dtype=np.float32)\n",
    "df.dropna(inplace=True)\n",
    "if MODE == 'chiller_on':\n",
    "    df = df[df['PowChi'] != 0.]\n",
    "if MODE == 'fan_on':\n",
    "    df = df[(df['PerFreqFanA'] != 0.) | df['PerFreqFanB'] != 0.]\n",
    "print(len(df), 'Records')"
   ]
  },
  {
   "cell_type": "markdown",
   "metadata": {},
   "source": [
    "## Environment model"
   ]
  },
  {
   "cell_type": "code",
   "execution_count": null,
   "metadata": {},
   "outputs": [],
   "source": [
    "inputs = ['PerFreqFans', 'PowConP', 'TempCondOut', 'TempAmbient', 'TempWetBulb']\n",
    "outputs = ['PowChi', 'PowFans', 'TempCondOut']\n",
    "\n",
    "df_in = pd.DataFrame(columns=inputs, index=df.index)\n",
    "df_in['PerFreqFans'] = (df['PerFreqFanA'] + df['PerFreqFanB']) / 2\n",
    "df_in[inputs[1:]] = df[inputs[1:]]\n",
    "\n",
    "df_out = pd.DataFrame(columns=outputs, index=df.index)\n",
    "df_out['PowChi'] = df['PowChi']\n",
    "df_out['PowFans'] = df['PowFanA'] + df['PowFanB']\n",
    "df_out['TempCondOut'] = df['TempCondOut']\n",
    "\n",
    "idx_list = contiguous_sequences(df.index, pd.Timedelta(5, unit='min'))\n",
    "\n",
    "dfs_in, dfs_out = [], []\n",
    "for idx in idx_list:\n",
    "    dfs_in.append(df_in.loc[idx[:-1]])\n",
    "    dfs_out.append(df_out.loc[idx[1:]])\n",
    "\n",
    "df_in = pd.concat(dfs_in, sort=False)\n",
    "df_out = pd.concat(dfs_out, sort=False)\n",
    "\n",
    "print('{:6d} time series'.format(len(dfs_in)))\n",
    "print('{:6d} total rows'.format(len(df_in)))"
   ]
  },
  {
   "cell_type": "markdown",
   "metadata": {},
   "source": [
    "### Fully-connected network"
   ]
  },
  {
   "cell_type": "code",
   "execution_count": null,
   "metadata": {},
   "outputs": [],
   "source": [
    "std_in, std_out = StandardScaler(), StandardScaler()\n",
    "net = MLPRegressor(hidden_layer_sizes=(32, 32, 32),\n",
    "                   activation='relu',\n",
    "                   solver='adam',\n",
    "                   verbose=True,\n",
    "                   early_stopping=True)\n",
    "est = Pipeline([('std', std_in), ('net', net)])\n",
    "\n",
    "with warnings.catch_warnings():\n",
    "    warnings.simplefilter('ignore', category=FutureWarning)\n",
    "    est.fit(df_in, std_out.fit_transform(df_out))\n",
    "\n"
   ]
  },
  {
   "cell_type": "code",
   "execution_count": null,
   "metadata": {},
   "outputs": [],
   "source": [
    "save = {\n",
    "    'loss': est['net'].loss_,\n",
    "    'estimator': est,\n",
    "    'output_norm': std_out,\n",
    "    'inputs': inputs,\n",
    "    'outputs': outputs\n",
    "}\n",
    "with open(path.join(bin_path, 'chiller_model_nn'), 'wb') as f:\n",
    "    pickle.dump(save, f)"
   ]
  },
  {
   "cell_type": "code",
   "execution_count": null,
   "metadata": {},
   "outputs": [],
   "source": [
    "test_in, test_out = dfs_in[2], dfs_out[2]\n",
    "pred = pd.DataFrame(std_out.inverse_transform(est.predict(test_in)),\n",
    "                    index=test_out.index, columns=test_out.columns)\n",
    "\n",
    "test_out.plot(grid=True)\n",
    "pred.plot(grid=True)"
   ]
  },
  {
   "cell_type": "code",
   "execution_count": null,
   "metadata": {},
   "outputs": [],
   "source": [
    "# df_out.loc[idx_list[0]]\n",
    "df_out[idx_list[0]]"
   ]
  },
  {
   "cell_type": "code",
   "execution_count": null,
   "metadata": {},
   "outputs": [],
   "source": [
    "df_out.head()"
   ]
  }
 ],
 "metadata": {
  "kernelspec": {
   "display_name": "Python 3",
   "language": "python",
   "name": "python3"
  },
  "language_info": {
   "codemirror_mode": {
    "name": "ipython",
    "version": 3
   },
   "file_extension": ".py",
   "mimetype": "text/x-python",
   "name": "python",
   "nbconvert_exporter": "python",
   "pygments_lexer": "ipython3",
   "version": "3.7.1"
  }
 },
 "nbformat": 4,
 "nbformat_minor": 4
}
