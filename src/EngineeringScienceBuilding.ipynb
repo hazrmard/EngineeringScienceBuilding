{
 "cells": [
  {
   "cell_type": "code",
   "execution_count": 156,
   "metadata": {},
   "outputs": [],
   "source": [
    "% matplotlib inline\n",
    "% reload_ext autoreload\n",
    "% autoreload 2\n",
    "\n",
    "import numpy as np\n",
    "import pandas as pd\n",
    "from dateutil.parser import parse\n",
    "from tqdm import tqdm_notebook as tqdm\n",
    "from tqdm import tnrange as trange\n",
    "\n",
    "import thermo\n",
    "import preprocess\n",
    "\n",
    "Chiller1File = '../SystemInfo/ESB Chiller 1.csv'\n",
    "Chiller2File = '../SystemInfo/ESB Chiller 2.csv'"
   ]
  },
  {
   "cell_type": "code",
   "execution_count": 165,
   "metadata": {},
   "outputs": [],
   "source": [
    "# Read and pre-process data\n",
    "c1df = pd.read_csv(Chiller1File, index_col='Time', parse_dates=True, dtype=float)"
   ]
  },
  {
   "cell_type": "code",
   "execution_count": 166,
   "metadata": {},
   "outputs": [
    {
     "data": {
      "text/plain": [
       "DatetimeIndex(['2018-05-01 00:00:00', '2018-05-01 00:05:00',\n",
       "               '2018-05-01 00:10:00', '2018-05-01 00:15:00',\n",
       "               '2018-05-01 00:20:00', '2018-05-01 00:25:00',\n",
       "               '2018-05-01 00:30:00', '2018-05-01 00:35:00',\n",
       "               '2018-05-01 00:40:00', '2018-05-01 00:45:00',\n",
       "               ...\n",
       "               '2018-06-14 10:10:00', '2018-06-14 10:15:00',\n",
       "               '2018-06-14 10:20:00', '2018-06-14 10:25:00',\n",
       "               '2018-06-14 10:40:00', '2018-06-14 10:45:00',\n",
       "               '2018-06-14 10:50:00', '2018-06-14 10:55:00',\n",
       "               '2018-06-14 11:00:00', '2018-06-14 11:05:00'],\n",
       "              dtype='datetime64[ns]', name='Time', length=12798, freq=None)"
      ]
     },
     "execution_count": 166,
     "metadata": {},
     "output_type": "execute_result"
    }
   ],
   "source": [
    "c1df.index"
   ]
  }
 ],
 "metadata": {
  "kernelspec": {
   "display_name": "Python 3",
   "language": "python",
   "name": "python3"
  },
  "language_info": {
   "codemirror_mode": {
    "name": "ipython",
    "version": 3
   },
   "file_extension": ".py",
   "mimetype": "text/x-python",
   "name": "python",
   "nbconvert_exporter": "python",
   "pygments_lexer": "ipython3",
   "version": "3.7.0"
  }
 },
 "nbformat": 4,
 "nbformat_minor": 2
}
