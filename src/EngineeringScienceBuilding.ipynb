{
 "cells": [
  {
   "cell_type": "code",
   "execution_count": 30,
   "metadata": {},
   "outputs": [],
   "source": [
    "% matplotlib inline\n",
    "% reload_ext autoreload\n",
    "% autoreload 2\n",
    "\n",
    "import numpy as np\n",
    "import pandas as pd\n",
    "from dateutil.parser import parse\n",
    "from tqdm import tqdm_notebook as tqdm\n",
    "from tqdm import tnrange as trange\n",
    "\n",
    "Chiller1File = '../SystemInfo/ESB Chiller 1.csv'\n",
    "Chiller2File = '../SystemInfo/ESB Chiller 2.csv'"
   ]
  },
  {
   "cell_type": "code",
   "execution_count": 31,
   "metadata": {},
   "outputs": [],
   "source": [
    "# Read pre-processed data\n",
    "c1df = pd.read_csv(Chiller1File, index_col='Time', parse_dates=True, dtype=float)"
   ]
  },
  {
   "cell_type": "code",
   "execution_count": null,
   "metadata": {},
   "outputs": [],
   "source": [
    "# Measure maximum Coefficient of Performance for cooling\n",
    "c = c1df['Cond Entering Water Temp'] / (c1df['Cond Leaving Water Temp'] - c1df['Cond Entering Water Temp'])"
   ]
  }
 ],
 "metadata": {
  "kernelspec": {
   "display_name": "Python 3",
   "language": "python",
   "name": "python3"
  },
  "language_info": {
   "codemirror_mode": {
    "name": "ipython",
    "version": 3
   },
   "file_extension": ".py",
   "mimetype": "text/x-python",
   "name": "python",
   "nbconvert_exporter": "python",
   "pygments_lexer": "ipython3",
   "version": "3.7.0"
  }
 },
 "nbformat": 4,
 "nbformat_minor": 2
}
