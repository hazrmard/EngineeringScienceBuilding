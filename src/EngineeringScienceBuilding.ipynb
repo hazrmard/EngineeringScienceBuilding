{
 "cells": [
  {
   "cell_type": "code",
   "execution_count": 53,
   "metadata": {},
   "outputs": [],
   "source": [
    "% matplotlib inline\n",
    "% reload_ext autoreload\n",
    "% autoreload 2\n",
    "\n",
    "import numpy as np\n",
    "import pandas as pd\n",
    "\n",
    "from dateutil.parser import parse\n",
    "\n",
    "DATAFILE = '../EngineeringScienceBuilding/SystemInfo/BDXChillerData.xlsx'"
   ]
  },
  {
   "cell_type": "code",
   "execution_count": 62,
   "metadata": {},
   "outputs": [
    {
     "name": "stderr",
     "output_type": "stream",
     "text": [
      "C:\\Users\\Ibrahim\\Miniconda3\\lib\\site-packages\\dateutil\\parser\\_parser.py:1204: UnknownTimezoneWarning: tzname CDT identified but not understood.  Pass `tzinfos` argument in order to correctly return a timezone-aware datetime.  In a future version, this will raise an exception.\n",
      "  category=UnknownTimezoneWarning)\n"
     ]
    }
   ],
   "source": [
    "data = pd.ExcelFile(DATAFILE)\n",
    "dat_c1 = data.parse('ESB Chiller 1', nrows=10, index_col='Time', parse_dates=True,\n",
    "                    converters={'Time': lambda x: parse(x, tzinfos={'CDT': -18000})})"
   ]
  },
  {
   "cell_type": "code",
   "execution_count": 30,
   "metadata": {},
   "outputs": [],
   "source": [
    "dat_c1.set_index('Time', inplace=True)"
   ]
  },
  {
   "cell_type": "code",
   "execution_count": 61,
   "metadata": {},
   "outputs": [
    {
     "data": {
      "text/plain": [
       "Index(['5/1/18 12:00:00 AM CDT', '5/1/18 12:05:00 AM CDT',\n",
       "       '5/1/18 12:10:00 AM CDT', '5/1/18 12:15:00 AM CDT',\n",
       "       '5/1/18 12:20:00 AM CDT', '5/1/18 12:25:00 AM CDT',\n",
       "       '5/1/18 12:30:00 AM CDT', '5/1/18 12:35:00 AM CDT',\n",
       "       '5/1/18 12:40:00 AM CDT', '5/1/18 12:45:00 AM CDT'],\n",
       "      dtype='object', name='Time')"
      ]
     },
     "execution_count": 61,
     "metadata": {},
     "output_type": "execute_result"
    }
   ],
   "source": [
    "dat_c1.index"
   ]
  },
  {
   "cell_type": "code",
   "execution_count": 33,
   "metadata": {},
   "outputs": [
    {
     "data": {
      "text/plain": [
       "<matplotlib.axes._subplots.AxesSubplot at 0x275edec0080>"
      ]
     },
     "execution_count": 33,
     "metadata": {},
     "output_type": "execute_result"
    },
    {
     "data": {
      "image/png": "[encoded data removed]",
      "text/plain": [
       "<Figure size 432x288 with 1 Axes>"
      ]
     },
     "metadata": {
      "needs_background": "light"
     },
     "output_type": "display_data"
    }
   ],
   "source": [
    "dat_c1.plot(y='Cond Entering Water Temp')"
   ]
  },
  {
   "cell_type": "code",
   "execution_count": 56,
   "metadata": {},
   "outputs": [],
   "source": [
    "from ioops import to_csv\n",
    "to_csv(DATAFILE)"
   ]
  },
  {
   "cell_type": "code",
   "execution_count": 58,
   "metadata": {},
   "outputs": [
    {
     "data": {
      "text/plain": [
       "DatetimeIndex(['2018-05-01 05:00:00', '2018-05-01 05:05:00',\n",
       "               '2018-05-01 05:10:00', '2018-05-01 05:15:00',\n",
       "               '2018-05-01 05:20:00', '2018-05-01 05:25:00',\n",
       "               '2018-05-01 05:30:00', '2018-05-01 05:35:00',\n",
       "               '2018-05-01 05:40:00', '2018-05-01 05:45:00',\n",
       "               ...\n",
       "               '2018-06-14 15:10:00', '2018-06-14 15:15:00',\n",
       "               '2018-06-14 15:20:00', '2018-06-14 15:25:00',\n",
       "               '2018-06-14 15:40:00', '2018-06-14 15:45:00',\n",
       "               '2018-06-14 15:50:00', '2018-06-14 15:55:00',\n",
       "               '2018-06-14 16:00:00', '2018-06-14 16:05:00'],\n",
       "              dtype='datetime64[ns]', name='Time', length=12799, freq=None)"
      ]
     },
     "execution_count": 58,
     "metadata": {},
     "output_type": "execute_result"
    }
   ],
   "source": [
    "df = pd.read_csv('../EngineeringScienceBuilding/SystemInfo/ESB Chiller 1.csv', index_col='Time', parse_dates=True)\n",
    "df.index"
   ]
  }
 ],
 "metadata": {
  "kernelspec": {
   "display_name": "Python 3",
   "language": "python",
   "name": "python3"
  },
  "language_info": {
   "codemirror_mode": {
    "name": "ipython",
    "version": 3
   },
   "file_extension": ".py",
   "mimetype": "text/x-python",
   "name": "python",
   "nbconvert_exporter": "python",
   "pygments_lexer": "ipython3",
   "version": "3.7.0"
  }
 },
 "nbformat": 4,
 "nbformat_minor": 2
}
