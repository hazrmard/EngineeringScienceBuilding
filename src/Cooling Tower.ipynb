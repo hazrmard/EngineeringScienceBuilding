{
 "cells": [
  {
   "cell_type": "code",
   "execution_count": 1,
   "metadata": {},
   "outputs": [],
   "source": [
    "% matplotlib notebook\n",
    "% reload_ext autoreload\n",
    "% autoreload 2\n",
    "\n",
    "import datetime\n",
    "\n",
    "import numpy as np\n",
    "import pandas as pd\n",
    "import matplotlib.pyplot as plt\n",
    "from mpl_toolkits.mplot3d import Axes3D\n",
    "from sklearn.preprocessing import MinMaxScaler\n",
    "from sklearn.pipeline import Pipeline\n",
    "from sklearn.linear_model import LinearRegression\n",
    "from sklearn.model_selection import train_test_split\n",
    "from sklearn.cluster import DBSCAN\n",
    "import ipyvolume as ipv\n",
    "\n",
    "from thermo import CONSTANTS"
   ]
  },
  {
   "cell_type": "code",
   "execution_count": 2,
   "metadata": {},
   "outputs": [],
   "source": [
    "# source file, see docs/5-dataset.md for info on field names\n",
    "Chiller1File = '../SystemInfo/ESB Chiller 1.csv'\n",
    "# Read pre-processed data\n",
    "df = pd.read_csv(Chiller1File, index_col='Time', parse_dates=True, dtype=float)"
   ]
  },
  {
   "cell_type": "markdown",
   "metadata": {},
   "source": [
    "# Models\n",
    "\n",
    "## Fan speed & fan power\n",
    "\n",
    "*Hypothesis*: Fan power depends on ambient temperature `TempAmbient`, relative humidity `PerHumidity`, and fan speed setting `PerFreqFan[A | B]`.\n",
    "\n",
    "*Result*: Very little relationship from current data. Primarily because fan speed is ~100%. Need more variation."
   ]
  },
  {
   "cell_type": "code",
   "execution_count": null,
   "metadata": {},
   "outputs": [],
   "source": [
    "# Data\n",
    "X = df.loc[:, ('TempAmbient', 'PerHumidity', 'PerFreqFanA')]\n",
    "Y = df.loc[:, 'PowFanA']\n",
    "Xtrain, Xtest, Ytrain, Ytest = train_test_split(X, Y, test_size=0.1)"
   ]
  },
  {
   "cell_type": "code",
   "execution_count": null,
   "metadata": {},
   "outputs": [],
   "source": [
    "# Pipeline\n",
    "scaler = MinMaxScaler()        # scale to [0-1] range\n",
    "regressor = LinearRegression() # regression model\n",
    "reg = Pipeline([('scaler', scaler), ('regressor', regressor)])"
   ]
  },
  {
   "cell_type": "code",
   "execution_count": null,
   "metadata": {},
   "outputs": [],
   "source": [
    "reg.fit(Xtrain, Ytrain)\n",
    "reg.score(Xtest, Ytest)"
   ]
  },
  {
   "cell_type": "code",
   "execution_count": null,
   "metadata": {},
   "outputs": [],
   "source": [
    "f = plt.figure(figsize=(8,8))\n",
    "ax = f.add_subplot(111, projection='3d')\n",
    "ax.scatter3D(X.iloc[:, 0], X.iloc[:, 1], Y, c=Y)\n",
    "ax.set_xlabel('Ambient Temperature (K)')\n",
    "ax.set_ylabel('Relative Humidity')\n",
    "ax.set_zlabel('Fan Power (W)')"
   ]
  },
  {
   "cell_type": "markdown",
   "metadata": {},
   "source": [
    "# Clusters\n",
    "\n",
    "## Temperature"
   ]
  },
  {
   "cell_type": "code",
   "execution_count": 6,
   "metadata": {},
   "outputs": [],
   "source": [
    "X = df.loc[:, ('TempAmbient', 'TempWetbulb')]\n",
    "X['DeltaTemp'] = df['TempCondOut'] - df['TempCondIn']\n",
    "labels = DBSCAN().fit_predict(X)"
   ]
  },
  {
   "cell_type": "code",
   "execution_count": null,
   "metadata": {
    "scrolled": false
   },
   "outputs": [],
   "source": [
    "ipv.clear()\n",
    "cmap = plt.cm.Accent(labels)\n",
    "f = ipv.scatter(X['TempAmbient'], X['DeltaTemp'], X['TempWetbulb'], color=cmap,\n",
    "            size=10, marker='point_2d')\n",
    "ipv.xyzlim(280, 310)\n",
    "ipv.ylim(0, 10)\n",
    "ipv.xyzlabel('TempAmbient', 'DeltaTemp', 'TempWetbulb')\n",
    "ipv.show()"
   ]
  },
  {
   "cell_type": "code",
   "execution_count": 12,
   "metadata": {},
   "outputs": [],
   "source": [
    "def view(fig, n, frac):\n",
    "    ipv.view(360*frac)\n",
    "ipv.movie('../docs/img/7-ct-temp-clusters.gif', view, fps=12, frames=36)"
   ]
  },
  {
   "cell_type": "markdown",
   "metadata": {},
   "source": [
    "![](../docs/img/7-ct-temp-clusers.gif)"
   ]
  },
  {
   "cell_type": "markdown",
   "metadata": {},
   "source": [
    "## Power"
   ]
  },
  {
   "cell_type": "code",
   "execution_count": 15,
   "metadata": {},
   "outputs": [],
   "source": [
    "X = df.loc[:, ('PowConP', 'PowFanA', 'PowFanB')]\n",
    "labels = DBSCAN().fit_predict()"
   ]
  },
  {
   "cell_type": "code",
   "execution_count": null,
   "metadata": {},
   "outputs": [],
   "source": [
    "ipv.clear()\n",
    "cmap = plt.cm.Accent(labels)\n",
    "f = ipv.scatter(X['PowConP'], X['PowFanA'], X['PowFanB'], color=cmap,\n",
    "            size=10, marker='point_2d')\n",
    "# ipv.xyzlim(280, 310)\n",
    "ipv.xyzlabel('PowConP', 'PowFanA', 'PowFanB')\n",
    "ipv.show()"
   ]
  },
  {
   "cell_type": "code",
   "execution_count": null,
   "metadata": {},
   "outputs": [],
   "source": [
    "def view(fig, n, frac):\n",
    "    ipv.view(360*frac)\n",
    "ipv.movie('../docs/img/7-ct-power-clusters.gif', view, fps=12, frames=36)"
   ]
  },
  {
   "cell_type": "markdown",
   "metadata": {},
   "source": [
    "## Evaporative Cooling Model"
   ]
  },
  {
   "cell_type": "code",
   "execution_count": null,
   "metadata": {},
   "outputs": [],
   "source": []
  }
 ],
 "metadata": {
  "kernelspec": {
   "display_name": "Python 3",
   "language": "python",
   "name": "python3"
  },
  "language_info": {
   "codemirror_mode": {
    "name": "ipython",
    "version": 3
   },
   "file_extension": ".py",
   "mimetype": "text/x-python",
   "name": "python",
   "nbconvert_exporter": "python",
   "pygments_lexer": "ipython3",
   "version": "3.7.0"
  }
 },
 "nbformat": 4,
 "nbformat_minor": 2
}
