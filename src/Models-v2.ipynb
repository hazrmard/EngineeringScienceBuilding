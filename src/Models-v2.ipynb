{
 "cells": [
  {
   "cell_type": "markdown",
   "metadata": {},
   "source": [
    "Uses `v2` dataset."
   ]
  },
  {
   "cell_type": "code",
   "execution_count": null,
   "metadata": {},
   "outputs": [],
   "source": [
    "%matplotlib notebook\n",
    "%reload_ext autoreload\n",
    "%autoreload 2\n",
    "\n",
    "import datetime\n",
    "import sys\n",
    "from os import path, environ\n",
    "import pickle\n",
    "import warnings\n",
    "\n",
    "import numpy as np\n",
    "import pandas as pd\n",
    "import matplotlib.pyplot as plt\n",
    "from sklearn.preprocessing import StandardScaler\n",
    "from sklearn.pipeline import Pipeline\n",
    "from sklearn.neural_network import MLPRegressor\n",
    "from tqdm.auto import tqdm, trange\n",
    "from bdx import get_trend\n",
    "\n",
    "from utils import contiguous_sequences\n",
    "from plotting import model_surface, plot_surface\n",
    "from systems import Condenser\n",
    "from baseline_control import SimpleFeedbackController\n",
    "\n",
    "chiller_file_1 = path.join(environ['DATADIR'],\n",
    "                         'EngineeringScienceBuilding',\n",
    "                         '2422_ESB_HVAC_1.csv')\n",
    "chiller_file_2 = path.join(environ['DATADIR'],\n",
    "                         'EngineeringScienceBuilding',\n",
    "                         '2841_ESB_HVAC_2.csv')\n",
    "\n",
    "plot_path = path.join('..', 'docs', 'img')\n",
    "bin_path = './bin/'"
   ]
  },
  {
   "cell_type": "code",
   "execution_count": null,
   "metadata": {},
   "outputs": [],
   "source": [
    "# Choosing which chiller to use\n",
    "chiller_file = chiller_file_2\n",
    "# Data selection 'all' or 'chiller_on' or 'fan_on'\n",
    "MODE = 'chiller_on'\n",
    "# Read pre-processed data:\n",
    "# Pytorch uses float32 as default type for weights etc,\n",
    "# so input data points are also read in the same type.\n",
    "df = pd.read_csv(chiller_file, index_col='time',\n",
    "                 parse_dates=['time'], dtype=np.float32)\n",
    "print('Original length: {} Records'.format(len(df)))\n",
    "# # These fields were not populated until 2020-07-01, so leaving then out of analysis\n",
    "# df.drop(['PowFanA', 'PowFanB', 'FlowCond', 'PowChiP', 'PerFreqConP', 'PowConP'], axis='columns', inplace=True)\n",
    "df.drop(['FlowCond', 'PowChiP', 'PerFreqConP'], axis='columns', inplace=True)\n",
    "\n",
    "df.dropna(inplace=True)\n",
    "if MODE == 'chiller_on':\n",
    "    df = df[df['RunChi'] != 0]\n",
    "if MODE == 'fan_on':\n",
    "    df = df[(df['RunFanA'] != 0.) | df['RunFanB'] != 0.]\n",
    "print('Processed length: {} Records'.format(len(df)))"
   ]
  },
  {
   "cell_type": "code",
   "execution_count": null,
   "metadata": {},
   "outputs": [],
   "source": [
    "df.describe()"
   ]
  },
  {
   "cell_type": "markdown",
   "metadata": {},
   "source": [
    "## Condenser model\n",
    "\n",
    "State variables (12):\n",
    "\n",
    "`'TempCondIn', 'TempCondOut', 'TempEvapOut', 'PowChi', 'PowFanA', 'PowFanB', 'PowConP', 'TempEvapIn', 'TempAmbient', 'TempWetBulb', 'PressDiffEvap', 'PressDiffCond'`\n",
    "\n",
    "Action variables (1):\n",
    "\n",
    "`'TempCondInSetpoint'`\n",
    "\n",
    "Output variables (3):\n",
    "\n",
    "`'TempCondIn', 'TempCondOut', 'TempEvapOut', 'PowChi', 'PowFanA', 'PowFanB', 'PowConP'`\n",
    "\n",
    "Model:\n",
    "\n",
    "`[Action, State] --> [Output]`"
   ]
  },
  {
   "cell_type": "code",
   "execution_count": null,
   "metadata": {},
   "outputs": [],
   "source": [
    "actionvars = ['TempCondInSetpoint']\n",
    "statevars = ['TempCondIn', 'TempCondOut', 'TempEvapOut',\n",
    "             'PowChi', 'PowFanA', 'PowFanB', 'PowConP',\n",
    "             'TempEvapIn', 'TempAmbient', 'TempWetBulb', 'PressDiffEvap', 'PressDiffCond']\n",
    "inputs =  actionvars + statevars \n",
    "outputs = ['TempCondIn', 'TempCondOut', 'TempEvapOut',\n",
    "           'PowChi', 'PowFanA', 'PowFanB', 'PowConP']\n",
    "lag = (1, 1, 1, 1, 1, 1, 1)    # 0, 1, 2, 3, 4, ...\n",
    "\n",
    "df_in = pd.DataFrame(columns=inputs, index=df.index)\n",
    "df_in['TempCondInSetpoint'] = np.clip(df['TempWetBulb'] - 4, a_min=65, a_max=None)  # approach controller\n",
    "df_in[inputs[1:]] = df[inputs[1:]]\n",
    "\n",
    "df_out = pd.DataFrame(columns=outputs, index=df.index)\n",
    "df_out[outputs] = df[outputs]\n",
    "\n",
    "idx_list = contiguous_sequences(df.index, pd.Timedelta(5, unit='min'), filter_min=10)\n",
    "\n",
    "# Create dataframes of contiguous sequences with a delay\n",
    "# of 1 time unit to indicate causality input -> outputs\n",
    "dfs_in, dfs_out = [], []\n",
    "for idx in idx_list:\n",
    "    dfs_in.append(df_in.loc[idx[:-max(lag) if max(lag) > 0 else None]])\n",
    "    cols = []\n",
    "    for l, c in zip(lag, outputs):\n",
    "        window = slice(l, None if l==max(lag) else -(max(lag)-l))\n",
    "        series = df_out[c].loc[idx[window]]\n",
    "        cols.append(series.values)\n",
    "        if l == min(lag): index = series.index\n",
    "    dfs_out.append(pd.DataFrame(np.asarray(cols).T, index=index, columns=outputs))\n",
    "\n",
    "df_in = pd.concat(dfs_in, sort=False)\n",
    "df_out = pd.concat(dfs_out, sort=False)\n",
    "\n",
    "print('{:6d} time series'.format(len(dfs_in)))\n",
    "print('{:6d} total rows'.format(len(df_in)))"
   ]
  },
  {
   "cell_type": "code",
   "execution_count": null,
   "metadata": {
    "scrolled": true
   },
   "outputs": [],
   "source": [
    "std_in_cond, std_out_cond = StandardScaler(), StandardScaler()\n",
    "net = MLPRegressor(hidden_layer_sizes=(64, 64, 32),\n",
    "                   activation='relu',\n",
    "                   solver='adam',\n",
    "                   verbose=True,\n",
    "                   early_stopping=True,\n",
    "                   learning_rate_init=1e-4)\n",
    "est_cond = Pipeline([('std', std_in_cond), ('net', net)])\n",
    "\n",
    "with warnings.catch_warnings():\n",
    "    warnings.simplefilter('ignore', category=FutureWarning)\n",
    "    est_cond.fit(df_in, std_out_cond.fit_transform(df_out))"
   ]
  },
  {
   "cell_type": "code",
   "execution_count": null,
   "metadata": {},
   "outputs": [],
   "source": [
    "# Save model\n",
    "save = {\n",
    "    'loss': est_cond['net'].loss_,\n",
    "    'estimator': est_cond,\n",
    "    'output_norm': std_out_cond,\n",
    "    'actionvars': actionvars,\n",
    "    'statevars': statevars,\n",
    "    'inputs': inputs,\n",
    "    'outputs': outputs,\n",
    "    'lag': lag,\n",
    "}\n",
    "with open(path.join(bin_path, 'v2_condenser'), 'wb') as f:\n",
    "    pickle.dump(save, f)"
   ]
  },
  {
   "cell_type": "code",
   "execution_count": null,
   "metadata": {},
   "outputs": [],
   "source": [
    "# load model\n",
    "with open(path.join(bin_path, 'v2_condenser'), 'rb') as f:\n",
    "    save = pickle.load(f, fix_imports=False)\n",
    "    est_cond = save['estimator']\n",
    "    std_out_cond = save['output_norm']"
   ]
  },
  {
   "cell_type": "code",
   "execution_count": null,
   "metadata": {},
   "outputs": [],
   "source": [
    "# Visualize model predictions\n",
    "test_in, test_out = dfs_in[2], dfs_out[2]\n",
    "pred = pd.DataFrame(std_out_cond.inverse_transform(est_cond.predict(test_in)),\n",
    "                    index=test_out.index, columns=test_out.columns)\n",
    "\n",
    "plt.subplot(4, 1, 1)\n",
    "test_in.loc[:, ('TempCondIn')].plot(grid=True, style='g:', label='TempCondIn')\n",
    "test_out.loc[:, ('TempCondIn')].plot(grid=True, style='-', label='TempCondIn-Next')\n",
    "pred.loc[:, ('TempCondIn')].plot(grid=True, style='-', label='TempCondIn-Next-Pred')\n",
    "plt.legend()\n",
    "plt.subplot(4, 1, 2)\n",
    "test_in.loc[:, ('TempCondOut')].plot(grid=True, style='g:', label='TempCondOut')\n",
    "test_out.loc[:, ('TempCondOut')].plot(grid=True, style='-', label='TempCondOut-Next')\n",
    "pred.loc[:, ('TempCondOut')].plot(grid=True, style='-', label='TempCondOut-Next-Pred')\n",
    "plt.legend()\n",
    "plt.subplot(4, 1, 3)\n",
    "test_out.loc[:, ('PowChi')].plot(grid=True, label='PowChi')\n",
    "pred.loc[:, ('PowChi')].plot(grid=True, label='PowChi-Pred')\n",
    "plt.legend()\n",
    "plt.subplot(4, 1, 4)\n",
    "test_out.loc[:, ('PowFanA')].plot(grid=True, label='PowFanA')\n",
    "pred.loc[:, ('PowFanA')].plot(grid=True, label='PowFanA-Pred')\n",
    "plt.legend()"
   ]
  },
  {
   "cell_type": "code",
   "execution_count": null,
   "metadata": {},
   "outputs": [],
   "source": [
    "point = df_in.loc['2020-07-10T1200-6'].values.reshape(1, -1)\n",
    "x, y, z = model_surface(lambda x: std_out_cond.inverse_transform(est_cond.predict(x))[:,2],\n",
    "                        X=point, vary_idx=(0, 3),vary_range=((65, 85), (75, 95)), vary_num=(20, 20))\n",
    "ax = plot_surface(x,y,z, cmap=plt.cm.coolwarm)\n",
    "ax.set_xlabel('TempCondInSetpoint')\n",
    "ax.set_ylabel('TempAmbient')\n",
    "ax.set_zlabel('TempCondIn-Next Cycle')"
   ]
  },
  {
   "cell_type": "code",
   "execution_count": null,
   "metadata": {},
   "outputs": [],
   "source": [
    "print(df_in.loc['2020-07-10T1200-6'])"
   ]
  }
 ],
 "metadata": {
  "kernelspec": {
   "display_name": "Python 3",
   "language": "python",
   "name": "python3"
  },
  "language_info": {
   "codemirror_mode": {
    "name": "ipython",
    "version": 3
   },
   "file_extension": ".py",
   "mimetype": "text/x-python",
   "name": "python",
   "nbconvert_exporter": "python",
   "pygments_lexer": "ipython3",
   "version": "3.7.6"
  },
  "varInspector": {
   "cols": {
    "lenName": 16,
    "lenType": 16,
    "lenVar": 40
   },
   "kernels_config": {
    "python": {
     "delete_cmd_postfix": "",
     "delete_cmd_prefix": "del ",
     "library": "var_list.py",
     "varRefreshCmd": "print(var_dic_list())"
    },
    "r": {
     "delete_cmd_postfix": ") ",
     "delete_cmd_prefix": "rm(",
     "library": "var_list.r",
     "varRefreshCmd": "cat(var_dic_list()) "
    }
   },
   "types_to_exclude": [
    "module",
    "function",
    "builtin_function_or_method",
    "instance",
    "_Feature"
   ],
   "window_display": false
  }
 },
 "nbformat": 4,
 "nbformat_minor": 4
}
